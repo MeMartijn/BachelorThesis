{
 "cells": [
  {
   "cell_type": "markdown",
   "metadata": {},
   "source": [
    "# What is the performance of combinations of pre-trained embedding techniques with machine learning algorithms?"
   ]
  },
  {
   "cell_type": "code",
   "execution_count": 5,
   "metadata": {},
   "outputs": [
    {
     "data": {
      "text/html": [
       "<script type=\"text/javascript\">window.PlotlyConfig = {MathJaxConfig: 'local'};</script><script type=\"text/javascript\">if (window.MathJax) {MathJax.Hub.Config({SVG: {font: \"STIX-Web\"}});}</script><script>requirejs.config({paths: { 'plotly': ['https://cdn.plot.ly/plotly-latest.min']},});if(!window._Plotly) {require(['plotly'],function(plotly) {window._Plotly=plotly;});}</script>"
      ],
      "text/vnd.plotly.v1+html": [
       "<script type=\"text/javascript\">window.PlotlyConfig = {MathJaxConfig: 'local'};</script><script type=\"text/javascript\">if (window.MathJax) {MathJax.Hub.Config({SVG: {font: \"STIX-Web\"}});}</script><script>requirejs.config({paths: { 'plotly': ['https://cdn.plot.ly/plotly-latest.min']},});if(!window._Plotly) {require(['plotly'],function(plotly) {window._Plotly=plotly;});}</script>"
      ]
     },
     "metadata": {},
     "output_type": "display_data"
    }
   ],
   "source": [
    "import plotly.plotly as py\n",
    "import plotly.graph_objs as go\n",
    "from plotly.offline import download_plotlyjs, init_notebook_mode, plot, iplot\n",
    "init_notebook_mode(connected = True)"
   ]
  },
  {
   "cell_type": "code",
   "execution_count": 6,
   "metadata": {},
   "outputs": [
    {
     "data": {
      "application/vnd.plotly.v1+json": {
       "config": {
        "linkText": "Export to plot.ly",
        "plotlyServerURL": "https://plot.ly",
        "showLink": false
       },
       "data": [
        {
         "type": "heatmap",
         "uid": "16ed21ba-222a-4b2f-a991-02133462dd19",
         "x": [
          "Bag of Words",
          "InferSent",
          "ELMo",
          "BERT",
          "Transformer-XL",
          "GTP-2",
          "MT-DNN"
         ],
         "y": [
          "SVM",
          "Logistic Regression",
          "Bi-LSTM",
          "CNN"
         ],
         "z": [
          [
           0.2468847352024922,
           0.2398753894080997,
           0.2,
           0.2,
           0.2,
           0.2,
           0.2
          ],
          [
           0.2507788161993769,
           0.2468847352024922,
           0.2,
           0.2,
           0.2,
           0.2,
           0.2
          ],
          [
           0.2,
           0.2,
           0.2,
           0.2,
           0.2,
           0.2,
           0.2
          ],
          [
           0.2,
           0.2,
           0.2,
           0.2,
           0.2,
           0.2,
           0.2
          ]
         ]
        }
       ],
       "layout": {
        "title": {
         "text": "Validation set accuracy of machine learning models for each embedding technique"
        },
        "xaxis": {
         "ticks": ""
        },
        "yaxis": {
         "ticks": ""
        }
       }
      },
      "text/html": [
       "<div id=\"4f088d8a-70b1-40ec-bc46-7663bb10e03d\" style=\"height: 525px; width: 100%;\" class=\"plotly-graph-div\"></div><script type=\"text/javascript\">require([\"plotly\"], function(Plotly) { window.PLOTLYENV=window.PLOTLYENV || {};window.PLOTLYENV.BASE_URL=\"https://plot.ly\";\n",
       "if (document.getElementById(\"4f088d8a-70b1-40ec-bc46-7663bb10e03d\")) {\n",
       "    Plotly.newPlot(\"4f088d8a-70b1-40ec-bc46-7663bb10e03d\", [{\"x\": [\"Bag of Words\", \"InferSent\", \"ELMo\", \"BERT\", \"Transformer-XL\", \"GTP-2\", \"MT-DNN\"], \"y\": [\"SVM\", \"Logistic Regression\", \"Bi-LSTM\", \"CNN\"], \"z\": [[0.2468847352024922, 0.2398753894080997, 0.2, 0.2, 0.2, 0.2, 0.2], [0.2507788161993769, 0.2468847352024922, 0.2, 0.2, 0.2, 0.2, 0.2], [0.2, 0.2, 0.2, 0.2, 0.2, 0.2, 0.2], [0.2, 0.2, 0.2, 0.2, 0.2, 0.2, 0.2]], \"type\": \"heatmap\", \"uid\": \"16ed21ba-222a-4b2f-a991-02133462dd19\"}], {\"title\": {\"text\": \"Validation set accuracy of machine learning models for each embedding technique\"}, \"xaxis\": {\"ticks\": \"\"}, \"yaxis\": {\"ticks\": \"\"}}, {\"showLink\": false, \"linkText\": \"Export to plot.ly\", \"plotlyServerURL\": \"https://plot.ly\"}); \n",
       "}\n",
       "});</script><script type=\"text/javascript\">window.addEventListener(\"resize\", function(){if (document.getElementById(\"4f088d8a-70b1-40ec-bc46-7663bb10e03d\")) {window._Plotly.Plots.resize(document.getElementById(\"4f088d8a-70b1-40ec-bc46-7663bb10e03d\"));};})</script>"
      ],
      "text/vnd.plotly.v1+html": [
       "<div id=\"4f088d8a-70b1-40ec-bc46-7663bb10e03d\" style=\"height: 525px; width: 100%;\" class=\"plotly-graph-div\"></div><script type=\"text/javascript\">require([\"plotly\"], function(Plotly) { window.PLOTLYENV=window.PLOTLYENV || {};window.PLOTLYENV.BASE_URL=\"https://plot.ly\";\n",
       "if (document.getElementById(\"4f088d8a-70b1-40ec-bc46-7663bb10e03d\")) {\n",
       "    Plotly.newPlot(\"4f088d8a-70b1-40ec-bc46-7663bb10e03d\", [{\"x\": [\"Bag of Words\", \"InferSent\", \"ELMo\", \"BERT\", \"Transformer-XL\", \"GTP-2\", \"MT-DNN\"], \"y\": [\"SVM\", \"Logistic Regression\", \"Bi-LSTM\", \"CNN\"], \"z\": [[0.2468847352024922, 0.2398753894080997, 0.2, 0.2, 0.2, 0.2, 0.2], [0.2507788161993769, 0.2468847352024922, 0.2, 0.2, 0.2, 0.2, 0.2], [0.2, 0.2, 0.2, 0.2, 0.2, 0.2, 0.2], [0.2, 0.2, 0.2, 0.2, 0.2, 0.2, 0.2]], \"type\": \"heatmap\", \"uid\": \"16ed21ba-222a-4b2f-a991-02133462dd19\"}], {\"title\": {\"text\": \"Validation set accuracy of machine learning models for each embedding technique\"}, \"xaxis\": {\"ticks\": \"\"}, \"yaxis\": {\"ticks\": \"\"}}, {\"showLink\": false, \"linkText\": \"Export to plot.ly\", \"plotlyServerURL\": \"https://plot.ly\"}); \n",
       "}\n",
       "});</script><script type=\"text/javascript\">window.addEventListener(\"resize\", function(){if (document.getElementById(\"4f088d8a-70b1-40ec-bc46-7663bb10e03d\")) {window._Plotly.Plots.resize(document.getElementById(\"4f088d8a-70b1-40ec-bc46-7663bb10e03d\"));};})</script>"
      ]
     },
     "metadata": {},
     "output_type": "display_data"
    }
   ],
   "source": [
    "data = [go.Heatmap( z = [[0.2468847352024922, 0.2398753894080997, 0.2, 0.2, 0.2, 0.2, 0.2], [0.2507788161993769, 0.2468847352024922, 0.2, 0.2, 0.2, 0.2, 0.2], [0.2, 0.2, 0.2, 0.2, 0.2, 0.2, 0.2], [0.2, 0.2, 0.2, 0.2, 0.2, 0.2, 0.2]],\n",
    "                    x = ['Bag of Words', 'InferSent', 'ELMo', 'BERT', 'Transformer-XL', 'GTP-2', 'MT-DNN'],\n",
    "                    y = ['SVM', 'Logistic Regression', 'Bi-LSTM', 'CNN'])]\n",
    "\n",
    "\n",
    "layout = go.Layout(\n",
    "    title = 'Validation set accuracy of machine learning models for each embedding technique',\n",
    "    xaxis = dict(ticks=''),\n",
    "    yaxis = dict(ticks='' )\n",
    ")\n",
    "\n",
    "fig = go.Figure(data = data, layout = layout)\n",
    "\n",
    "iplot(fig)"
   ]
  },
  {
   "cell_type": "code",
   "execution_count": null,
   "metadata": {},
   "outputs": [],
   "source": []
  }
 ],
 "metadata": {
  "kernelspec": {
   "display_name": "Python 3",
   "language": "python",
   "name": "python3"
  },
  "language_info": {
   "codemirror_mode": {
    "name": "ipython",
    "version": 3
   },
   "file_extension": ".py",
   "mimetype": "text/x-python",
   "name": "python",
   "nbconvert_exporter": "python",
   "pygments_lexer": "ipython3",
   "version": "3.6.5"
  }
 },
 "nbformat": 4,
 "nbformat_minor": 2
}
