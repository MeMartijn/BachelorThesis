{
 "cells": [
  {
   "cell_type": "markdown",
   "metadata": {},
   "source": [
    "# What is the performance of combinations of pre-trained embedding techniques with machine learning algorithms?"
   ]
  },
  {
   "cell_type": "code",
   "execution_count": 2,
   "metadata": {},
   "outputs": [
    {
     "data": {
      "text/html": [
       "<script type=\"text/javascript\">window.PlotlyConfig = {MathJaxConfig: 'local'};</script><script type=\"text/javascript\">if (window.MathJax) {MathJax.Hub.Config({SVG: {font: \"STIX-Web\"}});}</script><script>requirejs.config({paths: { 'plotly': ['https://cdn.plot.ly/plotly-latest.min']},});if(!window._Plotly) {require(['plotly'],function(plotly) {window._Plotly=plotly;});}</script>"
      ],
      "text/vnd.plotly.v1+html": [
       "<script type=\"text/javascript\">window.PlotlyConfig = {MathJaxConfig: 'local'};</script><script type=\"text/javascript\">if (window.MathJax) {MathJax.Hub.Config({SVG: {font: \"STIX-Web\"}});}</script><script>requirejs.config({paths: { 'plotly': ['https://cdn.plot.ly/plotly-latest.min']},});if(!window._Plotly) {require(['plotly'],function(plotly) {window._Plotly=plotly;});}</script>"
      ]
     },
     "metadata": {},
     "output_type": "display_data"
    }
   ],
   "source": [
    "import plotly.plotly as py\n",
    "import plotly.graph_objs as go\n",
    "import numpy as np\n",
    "from plotly.offline import download_plotlyjs, init_notebook_mode, plot, iplot\n",
    "init_notebook_mode(connected = True)"
   ]
  },
  {
   "cell_type": "code",
   "execution_count": 7,
   "metadata": {},
   "outputs": [
    {
     "data": {
      "application/vnd.plotly.v1+json": {
       "config": {
        "linkText": "Export to plot.ly",
        "plotlyServerURL": "https://plot.ly",
        "showLink": false
       },
       "data": [
        {
         "colorscale": "Cividis",
         "type": "heatmap",
         "uid": "a1c9eb42-7252-48e2-bab9-a6771f3f325b",
         "x": [
          "SVM",
          "Logistic Regression",
          "GradientBoosting",
          "Bi-LSTM",
          "CNN"
         ],
         "y": [
          "GPT-2",
          "ELMo",
          "GPT",
          "Flair",
          "BERT",
          "TransformerXL",
          "doc2vec",
          "Khurana"
         ],
         "z": [
          [
           0.5067193675889328,
           0.5296442687747036,
           0.5193675889328063,
           0.4377866,
           0.438419
          ],
          [
           0.5217391304347826,
           0.525691699604743,
           0.5201581027667984,
           0.5209486,
           0.5192095
          ],
          [
           0.5035573122529644,
           0.5035573122529644,
           0.49960474308300395,
           0.4782609,
           0.4714625
          ],
          [
           0.5280632411067193,
           0.5272727272727272,
           0.5130434782608696,
           0.5064032,
           0.5022925
          ],
          [
           0.51699604743083,
           0.5296442687747036,
           0.516205533596863,
           0.5171542,
           0.5150988
          ],
          [
           0.4980237154150198,
           0.49881422924901186,
           0.48616600790513836,
           0.4966008,
           0.4947036
          ],
          [
           0.4956521739130435,
           0.4893280632411067,
           0.4671936758893281,
           null,
           null
          ],
          [
           0.4806,
           0.4876,
           0.4903,
           null,
           null
          ]
         ]
        }
       ],
       "layout": {
        "xaxis": {
         "ticks": ""
        },
        "yaxis": {
         "ticks": ""
        }
       }
      },
      "text/html": [
       "<div id=\"1a7dabe9-c54f-4561-a44a-82bb3ee26262\" style=\"height: 525px; width: 100%;\" class=\"plotly-graph-div\"></div><script type=\"text/javascript\">require([\"plotly\"], function(Plotly) { window.PLOTLYENV=window.PLOTLYENV || {};window.PLOTLYENV.BASE_URL=\"https://plot.ly\";\n",
       "if (document.getElementById(\"1a7dabe9-c54f-4561-a44a-82bb3ee26262\")) {\n",
       "    Plotly.newPlot(\"1a7dabe9-c54f-4561-a44a-82bb3ee26262\", [{\"colorscale\": \"Cividis\", \"x\": [\"SVM\", \"Logistic Regression\", \"GradientBoosting\", \"Bi-LSTM\", \"CNN\"], \"y\": [\"GPT-2\", \"ELMo\", \"GPT\", \"Flair\", \"BERT\", \"TransformerXL\", \"doc2vec\", \"Khurana\"], \"z\": [[0.5067193675889328, 0.5296442687747036, 0.5193675889328063, 0.4377866, 0.438419], [0.5217391304347826, 0.525691699604743, 0.5201581027667984, 0.5209486, 0.5192095], [0.5035573122529644, 0.5035573122529644, 0.49960474308300395, 0.4782609, 0.4714625], [0.5280632411067193, 0.5272727272727272, 0.5130434782608696, 0.5064032, 0.5022925], [0.51699604743083, 0.5296442687747036, 0.516205533596863, 0.5171542, 0.5150988], [0.4980237154150198, 0.49881422924901186, 0.48616600790513836, 0.4966008, 0.4947036], [0.4956521739130435, 0.4893280632411067, 0.4671936758893281, null, null], [0.4806, 0.4876, 0.4903, null, null]], \"type\": \"heatmap\", \"uid\": \"a1c9eb42-7252-48e2-bab9-a6771f3f325b\"}], {\"xaxis\": {\"ticks\": \"\"}, \"yaxis\": {\"ticks\": \"\"}}, {\"showLink\": false, \"linkText\": \"Export to plot.ly\", \"plotlyServerURL\": \"https://plot.ly\"}); \n",
       "}\n",
       "});</script><script type=\"text/javascript\">window.addEventListener(\"resize\", function(){if (document.getElementById(\"1a7dabe9-c54f-4561-a44a-82bb3ee26262\")) {window._Plotly.Plots.resize(document.getElementById(\"1a7dabe9-c54f-4561-a44a-82bb3ee26262\"));};})</script>"
      ],
      "text/vnd.plotly.v1+html": [
       "<div id=\"1a7dabe9-c54f-4561-a44a-82bb3ee26262\" style=\"height: 525px; width: 100%;\" class=\"plotly-graph-div\"></div><script type=\"text/javascript\">require([\"plotly\"], function(Plotly) { window.PLOTLYENV=window.PLOTLYENV || {};window.PLOTLYENV.BASE_URL=\"https://plot.ly\";\n",
       "if (document.getElementById(\"1a7dabe9-c54f-4561-a44a-82bb3ee26262\")) {\n",
       "    Plotly.newPlot(\"1a7dabe9-c54f-4561-a44a-82bb3ee26262\", [{\"colorscale\": \"Cividis\", \"x\": [\"SVM\", \"Logistic Regression\", \"GradientBoosting\", \"Bi-LSTM\", \"CNN\"], \"y\": [\"GPT-2\", \"ELMo\", \"GPT\", \"Flair\", \"BERT\", \"TransformerXL\", \"doc2vec\", \"Khurana\"], \"z\": [[0.5067193675889328, 0.5296442687747036, 0.5193675889328063, 0.4377866, 0.438419], [0.5217391304347826, 0.525691699604743, 0.5201581027667984, 0.5209486, 0.5192095], [0.5035573122529644, 0.5035573122529644, 0.49960474308300395, 0.4782609, 0.4714625], [0.5280632411067193, 0.5272727272727272, 0.5130434782608696, 0.5064032, 0.5022925], [0.51699604743083, 0.5296442687747036, 0.516205533596863, 0.5171542, 0.5150988], [0.4980237154150198, 0.49881422924901186, 0.48616600790513836, 0.4966008, 0.4947036], [0.4956521739130435, 0.4893280632411067, 0.4671936758893281, null, null], [0.4806, 0.4876, 0.4903, null, null]], \"type\": \"heatmap\", \"uid\": \"a1c9eb42-7252-48e2-bab9-a6771f3f325b\"}], {\"xaxis\": {\"ticks\": \"\"}, \"yaxis\": {\"ticks\": \"\"}}, {\"showLink\": false, \"linkText\": \"Export to plot.ly\", \"plotlyServerURL\": \"https://plot.ly\"}); \n",
       "}\n",
       "});</script><script type=\"text/javascript\">window.addEventListener(\"resize\", function(){if (document.getElementById(\"1a7dabe9-c54f-4561-a44a-82bb3ee26262\")) {window._Plotly.Plots.resize(document.getElementById(\"1a7dabe9-c54f-4561-a44a-82bb3ee26262\"));};})</script>"
      ]
     },
     "metadata": {},
     "output_type": "display_data"
    }
   ],
   "source": [
    "data = [go.Heatmap( z = [[0.5067193675889328, 0.5296442687747036, 0.5193675889328063, 0.4377866, 0.438419],\n",
    "                         [0.5217391304347826, 0.525691699604743, 0.5201581027667984, 0.5209486, 0.5192095], \n",
    "                         [0.5035573122529644, 0.5035573122529644, 0.49960474308300395, 0.4782609, 0.4714625], \n",
    "                         [0.5280632411067193, 0.5272727272727272, 0.5130434782608696, 0.5064032, 0.5022925], \n",
    "                         [0.51699604743083, 0.5296442687747036, 0.516205533596863, 0.5171542, 0.5150988],\n",
    "                         [0.4980237154150198, 0.49881422924901186, 0.48616600790513836, 0.4966008, 0.4947036],\n",
    "                         [0.4956521739130435, 0.4893280632411067, 0.4671936758893281, np.nan, np.nan],\n",
    "                         [0.4806, 0.4876, 0.4903, np.nan, np.nan]],\n",
    "                    x = ['SVM', 'Logistic Regression', 'GradientBoosting', 'Bi-LSTM', 'CNN'],\n",
    "                    y = ['GPT-2', 'ELMo', 'GPT', 'Flair', 'BERT', 'TransformerXL', 'doc2vec', 'Khurana'],\n",
    "                    colorscale = 'Cividis')]\n",
    "\n",
    "# Test set accuracy of machine learning models for each embedding technique\n",
    "layout = go.Layout(\n",
    "    xaxis = dict(ticks=''),\n",
    "    yaxis = dict(ticks='' )\n",
    ")\n",
    "\n",
    "fig = go.Figure(data = data, layout = layout)\n",
    "\n",
    "iplot(fig)"
   ]
  },
  {
   "cell_type": "code",
   "execution_count": null,
   "metadata": {},
   "outputs": [],
   "source": []
  }
 ],
 "metadata": {
  "kernelspec": {
   "display_name": "Python 3",
   "language": "python",
   "name": "python3"
  },
  "language_info": {
   "codemirror_mode": {
    "name": "ipython",
    "version": 3
   },
   "file_extension": ".py",
   "mimetype": "text/x-python",
   "name": "python",
   "nbconvert_exporter": "python",
   "pygments_lexer": "ipython3",
   "version": "3.6.5"
  }
 },
 "nbformat": 4,
 "nbformat_minor": 2
}
