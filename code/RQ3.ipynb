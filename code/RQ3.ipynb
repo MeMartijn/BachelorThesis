{
 "cells": [
  {
   "cell_type": "markdown",
   "metadata": {},
   "source": [
    "# What is the performance of combinations of pre-trained embedding techniques with machine learning algorithms?"
   ]
  },
  {
   "cell_type": "code",
   "execution_count": 4,
   "metadata": {},
   "outputs": [
    {
     "data": {
      "text/html": [
       "<script type=\"text/javascript\">window.PlotlyConfig = {MathJaxConfig: 'local'};</script><script type=\"text/javascript\">if (window.MathJax) {MathJax.Hub.Config({SVG: {font: \"STIX-Web\"}});}</script><script>requirejs.config({paths: { 'plotly': ['https://cdn.plot.ly/plotly-latest.min']},});if(!window._Plotly) {require(['plotly'],function(plotly) {window._Plotly=plotly;});}</script>"
      ],
      "text/vnd.plotly.v1+html": [
       "<script type=\"text/javascript\">window.PlotlyConfig = {MathJaxConfig: 'local'};</script><script type=\"text/javascript\">if (window.MathJax) {MathJax.Hub.Config({SVG: {font: \"STIX-Web\"}});}</script><script>requirejs.config({paths: { 'plotly': ['https://cdn.plot.ly/plotly-latest.min']},});if(!window._Plotly) {require(['plotly'],function(plotly) {window._Plotly=plotly;});}</script>"
      ]
     },
     "metadata": {},
     "output_type": "display_data"
    }
   ],
   "source": [
    "import plotly.plotly as py\n",
    "import plotly.graph_objs as go\n",
    "import numpy as np\n",
    "from plotly.offline import download_plotlyjs, init_notebook_mode, plot, iplot\n",
    "init_notebook_mode(connected = True)"
   ]
  },
  {
   "cell_type": "code",
   "execution_count": 27,
   "metadata": {},
   "outputs": [
    {
     "data": {
      "application/vnd.plotly.v1+json": {
       "config": {
        "linkText": "Export to plot.ly",
        "plotlyServerURL": "https://plot.ly",
        "showLink": false
       },
       "data": [
        {
         "colorscale": "Cividis",
         "type": "heatmap",
         "uid": "4767db61-c5e2-46b7-915d-ab9a91ecd99f",
         "x": [
          "SVM",
          "Logistic Regression",
          "GradientBoosting",
          "Bi-LSTM",
          "CNN"
         ],
         "y": [
          "ELMo",
          "GPT",
          "Flair",
          "BERT",
          "TransformerXL",
          "doc2vec",
          "Khurana"
         ],
         "z": [
          [
           0.5217391304347826,
           0.525691699604743,
           0.5201581027667984,
           0.5209486,
           0.5192095
          ],
          [
           0.5035573122529644,
           0.5035573122529644,
           0.49960474308300395,
           0.4782609,
           0.4714625
          ],
          [
           0.5280632411067193,
           0.5272727272727272,
           0.5130434782608696,
           0.5064032,
           0.5022925
          ],
          [
           0.51699604743083,
           0.5296442687747036,
           0.516205533596863,
           0.5171542,
           0.5150988
          ],
          [
           0.4980237154150198,
           0.49881422924901186,
           0.48616600790513836,
           0.4966008,
           0.4947036
          ],
          [
           0.4956521739130435,
           0.4893280632411067,
           0.4671936758893281,
           null,
           null
          ],
          [
           0.4806,
           0.4876,
           0.4903,
           null,
           null
          ]
         ]
        }
       ],
       "layout": {
        "title": {
         "text": "Test set accuracy of machine learning models for each embedding technique"
        },
        "xaxis": {
         "ticks": ""
        },
        "yaxis": {
         "ticks": ""
        }
       }
      },
      "text/html": [
       "<div id=\"9db2a948-b028-454e-95ba-f7b9f5a0e322\" style=\"height: 525px; width: 100%;\" class=\"plotly-graph-div\"></div><script type=\"text/javascript\">require([\"plotly\"], function(Plotly) { window.PLOTLYENV=window.PLOTLYENV || {};window.PLOTLYENV.BASE_URL=\"https://plot.ly\";\n",
       "if (document.getElementById(\"9db2a948-b028-454e-95ba-f7b9f5a0e322\")) {\n",
       "    Plotly.newPlot(\"9db2a948-b028-454e-95ba-f7b9f5a0e322\", [{\"colorscale\": \"Cividis\", \"x\": [\"SVM\", \"Logistic Regression\", \"GradientBoosting\", \"Bi-LSTM\", \"CNN\"], \"y\": [\"ELMo\", \"GPT\", \"Flair\", \"BERT\", \"TransformerXL\", \"doc2vec\", \"Khurana\"], \"z\": [[0.5217391304347826, 0.525691699604743, 0.5201581027667984, 0.5209486, 0.5192095], [0.5035573122529644, 0.5035573122529644, 0.49960474308300395, 0.4782609, 0.4714625], [0.5280632411067193, 0.5272727272727272, 0.5130434782608696, 0.5064032, 0.5022925], [0.51699604743083, 0.5296442687747036, 0.516205533596863, 0.5171542, 0.5150988], [0.4980237154150198, 0.49881422924901186, 0.48616600790513836, 0.4966008, 0.4947036], [0.4956521739130435, 0.4893280632411067, 0.4671936758893281, null, null], [0.4806, 0.4876, 0.4903, null, null]], \"type\": \"heatmap\", \"uid\": \"4767db61-c5e2-46b7-915d-ab9a91ecd99f\"}], {\"title\": {\"text\": \"Test set accuracy of machine learning models for each embedding technique\"}, \"xaxis\": {\"ticks\": \"\"}, \"yaxis\": {\"ticks\": \"\"}}, {\"showLink\": false, \"linkText\": \"Export to plot.ly\", \"plotlyServerURL\": \"https://plot.ly\"}); \n",
       "}\n",
       "});</script><script type=\"text/javascript\">window.addEventListener(\"resize\", function(){if (document.getElementById(\"9db2a948-b028-454e-95ba-f7b9f5a0e322\")) {window._Plotly.Plots.resize(document.getElementById(\"9db2a948-b028-454e-95ba-f7b9f5a0e322\"));};})</script>"
      ],
      "text/vnd.plotly.v1+html": [
       "<div id=\"9db2a948-b028-454e-95ba-f7b9f5a0e322\" style=\"height: 525px; width: 100%;\" class=\"plotly-graph-div\"></div><script type=\"text/javascript\">require([\"plotly\"], function(Plotly) { window.PLOTLYENV=window.PLOTLYENV || {};window.PLOTLYENV.BASE_URL=\"https://plot.ly\";\n",
       "if (document.getElementById(\"9db2a948-b028-454e-95ba-f7b9f5a0e322\")) {\n",
       "    Plotly.newPlot(\"9db2a948-b028-454e-95ba-f7b9f5a0e322\", [{\"colorscale\": \"Cividis\", \"x\": [\"SVM\", \"Logistic Regression\", \"GradientBoosting\", \"Bi-LSTM\", \"CNN\"], \"y\": [\"ELMo\", \"GPT\", \"Flair\", \"BERT\", \"TransformerXL\", \"doc2vec\", \"Khurana\"], \"z\": [[0.5217391304347826, 0.525691699604743, 0.5201581027667984, 0.5209486, 0.5192095], [0.5035573122529644, 0.5035573122529644, 0.49960474308300395, 0.4782609, 0.4714625], [0.5280632411067193, 0.5272727272727272, 0.5130434782608696, 0.5064032, 0.5022925], [0.51699604743083, 0.5296442687747036, 0.516205533596863, 0.5171542, 0.5150988], [0.4980237154150198, 0.49881422924901186, 0.48616600790513836, 0.4966008, 0.4947036], [0.4956521739130435, 0.4893280632411067, 0.4671936758893281, null, null], [0.4806, 0.4876, 0.4903, null, null]], \"type\": \"heatmap\", \"uid\": \"4767db61-c5e2-46b7-915d-ab9a91ecd99f\"}], {\"title\": {\"text\": \"Test set accuracy of machine learning models for each embedding technique\"}, \"xaxis\": {\"ticks\": \"\"}, \"yaxis\": {\"ticks\": \"\"}}, {\"showLink\": false, \"linkText\": \"Export to plot.ly\", \"plotlyServerURL\": \"https://plot.ly\"}); \n",
       "}\n",
       "});</script><script type=\"text/javascript\">window.addEventListener(\"resize\", function(){if (document.getElementById(\"9db2a948-b028-454e-95ba-f7b9f5a0e322\")) {window._Plotly.Plots.resize(document.getElementById(\"9db2a948-b028-454e-95ba-f7b9f5a0e322\"));};})</script>"
      ]
     },
     "metadata": {},
     "output_type": "display_data"
    }
   ],
   "source": [
    "data = [go.Heatmap( z = [[0.5217391304347826, 0.525691699604743, 0.5201581027667984, 0.5209486, 0.5192095], \n",
    "                         [0.5035573122529644, 0.5035573122529644, 0.49960474308300395, 0.4782609, 0.4714625], \n",
    "                         [0.5280632411067193, 0.5272727272727272, 0.5130434782608696, 0.5064032, 0.5022925], \n",
    "                         [0.51699604743083, 0.5296442687747036, 0.516205533596863, 0.5171542, 0.5150988],\n",
    "                         [0.4980237154150198, 0.49881422924901186, 0.48616600790513836, 0.4966008, 0.4947036],\n",
    "                         [0.4956521739130435, 0.4893280632411067, 0.4671936758893281, np.nan, np.nan],\n",
    "                         [0.4806, 0.4876, 0.4903, np.nan, np.nan]],\n",
    "                    x = ['SVM', 'Logistic Regression', 'GradientBoosting', 'Bi-LSTM', 'CNN'],\n",
    "                    y = ['ELMo', 'GPT', 'Flair', 'BERT', 'TransformerXL', 'doc2vec', 'Khurana'],\n",
    "                    colorscale = 'Cividis')]\n",
    "\n",
    "\n",
    "layout = go.Layout(\n",
    "    title = 'Test set accuracy of machine learning models for each embedding technique',\n",
    "    xaxis = dict(ticks=''),\n",
    "    yaxis = dict(ticks='' )\n",
    ")\n",
    "\n",
    "fig = go.Figure(data = data, layout = layout)\n",
    "\n",
    "iplot(fig)"
   ]
  },
  {
   "cell_type": "code",
   "execution_count": null,
   "metadata": {},
   "outputs": [],
   "source": []
  }
 ],
 "metadata": {
  "kernelspec": {
   "display_name": "Python 3",
   "language": "python",
   "name": "python3"
  },
  "language_info": {
   "codemirror_mode": {
    "name": "ipython",
    "version": 3
   },
   "file_extension": ".py",
   "mimetype": "text/x-python",
   "name": "python",
   "nbconvert_exporter": "python",
   "pygments_lexer": "ipython3",
   "version": "3.6.5"
  }
 },
 "nbformat": 4,
 "nbformat_minor": 2
}
