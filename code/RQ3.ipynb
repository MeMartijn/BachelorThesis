{
 "cells": [
  {
   "cell_type": "markdown",
   "metadata": {},
   "source": [
    "# What is the performance of combinations of pre-trained embedding techniques with machine learning algorithms?"
   ]
  },
  {
   "cell_type": "code",
   "execution_count": 10,
   "metadata": {},
   "outputs": [
    {
     "data": {
      "text/html": [
       "        <script type=\"text/javascript\">\n",
       "        window.PlotlyConfig = {MathJaxConfig: 'local'};\n",
       "        if (window.MathJax) {MathJax.Hub.Config({SVG: {font: \"STIX-Web\"}});}\n",
       "        if (typeof require !== 'undefined') {\n",
       "        require.undef(\"plotly\");\n",
       "        requirejs.config({\n",
       "            paths: {\n",
       "                'plotly': ['https://cdn.plot.ly/plotly-latest.min']\n",
       "            }\n",
       "        });\n",
       "        require(['plotly'], function(Plotly) {\n",
       "            window._Plotly = Plotly;\n",
       "        });\n",
       "        }\n",
       "        </script>\n",
       "        "
      ]
     },
     "metadata": {},
     "output_type": "display_data"
    }
   ],
   "source": [
    "import plotly.plotly as py\n",
    "import plotly.graph_objs as go\n",
    "import numpy as np\n",
    "from plotly.offline import download_plotlyjs, init_notebook_mode, plot, iplot\n",
    "init_notebook_mode(connected = True)"
   ]
  },
  {
   "cell_type": "code",
   "execution_count": 23,
   "metadata": {},
   "outputs": [
    {
     "data": {
      "application/vnd.plotly.v1+json": {
       "config": {
        "linkText": "Export to plot.ly",
        "plotlyServerURL": "https://plot.ly",
        "showLink": false
       },
       "data": [
        {
         "type": "heatmap",
         "uid": "ef93a063-96e1-4fa7-991a-218b0d28c1d4",
         "x": [
          "SVM",
          "Logistic Regression",
          "GradientBoosting",
          "Bi-LSTM",
          "CNN"
         ],
         "y": [
          "ELMo",
          "GPT",
          "Flair",
          "BERT",
          "TransformerXL",
          "doc2vec",
          "Khurana"
         ],
         "z": [
          [
           0.525691699604743,
           0.525691699604743,
           0.5201581027667984,
           null,
           null
          ],
          [
           0.5035573122529644,
           0.5035573122529644,
           0.49960474308300395,
           null,
           null
          ],
          [
           0.5272727272727272,
           0.5272727272727272,
           0.5130434782608696,
           null,
           null
          ],
          [
           0.5296442687747036,
           0.5296442687747036,
           0.516205533596863,
           null,
           null
          ],
          [
           0.49881422924901186,
           0.49881422924901186,
           0.48616600790513836,
           null,
           null
          ],
          [
           null,
           0.4893280632411067,
           null,
           null,
           null
          ],
          [
           0.4806,
           0.4876,
           0.4903,
           null,
           null
          ]
         ]
        }
       ],
       "layout": {
        "title": {
         "text": "Test set accuracy of machine learning models for each embedding technique"
        },
        "xaxis": {
         "ticks": ""
        },
        "yaxis": {
         "ticks": ""
        }
       }
      },
      "text/html": [
       "<div>\n",
       "        \n",
       "        \n",
       "            <div id=\"60bb15e6-20eb-4ec9-85b3-53fe7f03a32b\" class=\"plotly-graph-div\" style=\"height:525px; width:100%;\"></div>\n",
       "            <script type=\"text/javascript\">\n",
       "                require([\"plotly\"], function(Plotly) {\n",
       "                    window.PLOTLYENV=window.PLOTLYENV || {};\n",
       "                    window.PLOTLYENV.BASE_URL='https://plot.ly';\n",
       "                    \n",
       "                if (document.getElementById(\"60bb15e6-20eb-4ec9-85b3-53fe7f03a32b\")) {\n",
       "                    Plotly.newPlot(\n",
       "                        '60bb15e6-20eb-4ec9-85b3-53fe7f03a32b',\n",
       "                        [{\"type\": \"heatmap\", \"uid\": \"ef93a063-96e1-4fa7-991a-218b0d28c1d4\", \"x\": [\"SVM\", \"Logistic Regression\", \"GradientBoosting\", \"Bi-LSTM\", \"CNN\"], \"y\": [\"ELMo\", \"GPT\", \"Flair\", \"BERT\", \"TransformerXL\", \"doc2vec\", \"Khurana\"], \"z\": [[0.525691699604743, 0.525691699604743, 0.5201581027667984, null, null], [0.5035573122529644, 0.5035573122529644, 0.49960474308300395, null, null], [0.5272727272727272, 0.5272727272727272, 0.5130434782608696, null, null], [0.5296442687747036, 0.5296442687747036, 0.516205533596863, null, null], [0.49881422924901186, 0.49881422924901186, 0.48616600790513836, null, null], [null, 0.4893280632411067, null, null, null], [0.4806, 0.4876, 0.4903, null, null]]}],\n",
       "                        {\"title\": {\"text\": \"Test set accuracy of machine learning models for each embedding technique\"}, \"xaxis\": {\"ticks\": \"\"}, \"yaxis\": {\"ticks\": \"\"}},\n",
       "                        {\"showLink\": false, \"linkText\": \"Export to plot.ly\", \"plotlyServerURL\": \"https://plot.ly\", \"responsive\": true}\n",
       "                    ).then(function(){\n",
       "                            \n",
       "var gd = document.getElementById('60bb15e6-20eb-4ec9-85b3-53fe7f03a32b');\n",
       "var x = new MutationObserver(function (mutations, observer) {{\n",
       "        var display = window.getComputedStyle(gd).display;\n",
       "        if (!display || display === 'none') {{\n",
       "            console.log([gd, 'removed!']);\n",
       "            Plotly.purge(gd);\n",
       "            observer.disconnect();\n",
       "        }}\n",
       "}});\n",
       "\n",
       "// Listen for the removal of the full notebook cells\n",
       "var notebookContainer = gd.closest('#notebook-container');\n",
       "if (notebookContainer) {{\n",
       "    x.observe(notebookContainer, {childList: true});\n",
       "}}\n",
       "\n",
       "// Listen for the clearing of the current output cell\n",
       "var outputEl = gd.closest('.output');\n",
       "if (outputEl) {{\n",
       "    x.observe(outputEl, {childList: true});\n",
       "}}\n",
       "\n",
       "                        })\n",
       "                };\n",
       "                });\n",
       "            </script>\n",
       "        </div>"
      ]
     },
     "metadata": {},
     "output_type": "display_data"
    }
   ],
   "source": [
    "data = [go.Heatmap( z = [[0.525691699604743, 0.525691699604743, 0.5201581027667984, np.nan, np.nan], \n",
    "                         [0.5035573122529644, 0.5035573122529644, 0.49960474308300395, np.nan, np.nan], \n",
    "                         [0.5272727272727272, 0.5272727272727272, 0.5130434782608696, np.nan, np.nan], \n",
    "                         [0.5296442687747036, 0.5296442687747036, 0.516205533596863, np.nan, np.nan],\n",
    "                         [0.49881422924901186, 0.49881422924901186, 0.48616600790513836, np.nan, np.nan],\n",
    "                         [np.nan, 0.4893280632411067, np.nan, np.nan, np.nan],\n",
    "                         [0.4806, 0.4876, 0.4903, np.nan, np.nan]],\n",
    "                    x = ['SVM', 'Logistic Regression', 'GradientBoosting', 'Bi-LSTM', 'CNN'],\n",
    "                    y = ['ELMo', 'GPT', 'Flair', 'BERT', 'TransformerXL', 'doc2vec', 'Khurana'])]\n",
    "\n",
    "\n",
    "layout = go.Layout(\n",
    "    title = 'Test set accuracy of machine learning models for each embedding technique',\n",
    "    xaxis = dict(ticks=''),\n",
    "    yaxis = dict(ticks='' )\n",
    ")\n",
    "\n",
    "fig = go.Figure(data = data, layout = layout)\n",
    "\n",
    "iplot(fig)"
   ]
  },
  {
   "cell_type": "code",
   "execution_count": null,
   "metadata": {},
   "outputs": [],
   "source": []
  }
 ],
 "metadata": {
  "kernelspec": {
   "display_name": "Python 3",
   "language": "python",
   "name": "python3"
  },
  "language_info": {
   "codemirror_mode": {
    "name": "ipython",
    "version": 3
   },
   "file_extension": ".py",
   "mimetype": "text/x-python",
   "name": "python",
   "nbconvert_exporter": "python",
   "pygments_lexer": "ipython3",
   "version": "3.7.3"
  }
 },
 "nbformat": 4,
 "nbformat_minor": 2
}
