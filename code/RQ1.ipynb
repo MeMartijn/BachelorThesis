{
 "cells": [
  {
   "cell_type": "markdown",
   "metadata": {},
   "source": [
    "# Turning vectors into a fixed length\n",
    "The statements in the Liar dataset do not hold a fixed length needed as input for machine learning algorithms. This means that the vectors generated from the different embedding techniques vary in length and need to be generalized to a fixed length. \n",
    "In this notebook, the first research question will be answered: *which way of reshaping vectors to a fixed length works best for classifying fake news?*\n",
    "\n",
    "<hr>\n",
    "\n",
    "## Exploring the options\n",
    "In computer vision, feature pooling is used to reduce noise in data. The goal of this step is to transform joint feature representation into a new, more usable one that preserves important information while discarding irrelevant details. Pooling techniques such as max pooling and average pooling perform mathematical operations to reduce several numbers into one [(Boureau et al., 2010)](https://www.di.ens.fr/willow/pdfs/icml2010b.pdf). In the case of transforming the shape of the data, we can reduce vectors to the smallest vector in the dataset to create a uniform shape."
   ]
  },
  {
   "cell_type": "code",
   "execution_count": 1,
   "metadata": {},
   "outputs": [
    {
     "name": "stderr",
     "output_type": "stream",
     "text": [
      "Using TensorFlow backend.\n"
     ]
    },
    {
     "data": {
      "text/html": [
       "<script type=\"text/javascript\">window.PlotlyConfig = {MathJaxConfig: 'local'};</script><script type=\"text/javascript\">if (window.MathJax) {MathJax.Hub.Config({SVG: {font: \"STIX-Web\"}});}</script><script>requirejs.config({paths: { 'plotly': ['https://cdn.plot.ly/plotly-latest.min']},});if(!window._Plotly) {require(['plotly'],function(plotly) {window._Plotly=plotly;});}</script>"
      ],
      "text/vnd.plotly.v1+html": [
       "<script type=\"text/javascript\">window.PlotlyConfig = {MathJaxConfig: 'local'};</script><script type=\"text/javascript\">if (window.MathJax) {MathJax.Hub.Config({SVG: {font: \"STIX-Web\"}});}</script><script>requirejs.config({paths: { 'plotly': ['https://cdn.plot.ly/plotly-latest.min']},});if(!window._Plotly) {require(['plotly'],function(plotly) {window._Plotly=plotly;});}</script>"
      ]
     },
     "metadata": {},
     "output_type": "display_data"
    }
   ],
   "source": [
    "# General imports\n",
    "import pandas as pd\n",
    "import numpy as np\n",
    "import plotly.graph_objs as go\n",
    "from plotly.offline import download_plotlyjs, init_notebook_mode, plot, iplot\n",
    "from keras.preprocessing.sequence import pad_sequences\n",
    "\n",
    "# Set offline mode for plotly\n",
    "init_notebook_mode(connected = True)\n",
    "\n",
    "# The DataLoader class gives access to pretrained vectors from the Liar dataset\n",
    "from data_loader import DataLoader\n",
    "data = DataLoader()"
   ]
  },
  {
   "cell_type": "code",
   "execution_count": 2,
   "metadata": {},
   "outputs": [],
   "source": [
    "from classifiers import Classifiers\n",
    "clfs = Classifiers()"
   ]
  },
  {
   "cell_type": "markdown",
   "metadata": {},
   "source": [
    "<hr>\n",
    "\n",
    "## Data gathering and processing"
   ]
  },
  {
   "cell_type": "code",
   "execution_count": 3,
   "metadata": {},
   "outputs": [],
   "source": [
    "general = data.get_dfs()\n",
    "\n",
    "# Recode labels from 6 to 3\n",
    "def recode(label):\n",
    "    if label == 'false' or label == 'pants-fire' or label == 'barely-true':\n",
    "        return 'false'\n",
    "    elif label == 'true' or label == 'mostly-true':\n",
    "        return 'true'\n",
    "    elif label == 'half-true':\n",
    "        return 'half-true'\n",
    "\n",
    "for dataset in general.keys():\n",
    "    general[dataset]['label'] = general[dataset]['label'].apply(lambda label: recode(label))"
   ]
  },
  {
   "cell_type": "markdown",
   "metadata": {},
   "source": [
    "### Applying shaping techniques\n",
    "#### Max pooling"
   ]
  },
  {
   "cell_type": "code",
   "execution_count": 3,
   "metadata": {},
   "outputs": [],
   "source": [
    "def max_pool(statement):\n",
    "    if len(statement) > 1:\n",
    "        return [row.max() for row in np.transpose([[token_row.max() for token_row in np.transpose(np.array(sentence))] for sentence in statement])]\n",
    "    else:\n",
    "        return [token_row.max() for token_row in np.transpose(statement[0])]"
   ]
  },
  {
   "cell_type": "markdown",
   "metadata": {},
   "source": [
    "#### Min pooling"
   ]
  },
  {
   "cell_type": "code",
   "execution_count": 64,
   "metadata": {},
   "outputs": [],
   "source": [
    "def min_pool(statement):\n",
    "    if len(statement) > 1:\n",
    "        return [row.min() for row in np.transpose([[token_row.min() for token_row in np.transpose(np.array(sentence))] for sentence in statement])]\n",
    "    else:\n",
    "        return [token_row.min() for token_row in np.transpose(statement[0])]"
   ]
  },
  {
   "cell_type": "markdown",
   "metadata": {},
   "source": [
    "#### Average pooling"
   ]
  },
  {
   "cell_type": "code",
   "execution_count": 69,
   "metadata": {},
   "outputs": [],
   "source": [
    "def average_pool(statement):\n",
    "    if len(statement) > 1:\n",
    "        return [np.average(row) for row in np.transpose([[np.average(token_row) for token_row in np.transpose(np.array(sentence))] for sentence in statement])]\n",
    "    else:\n",
    "        return [np.average(token_row) for token_row in np.transpose(statement[0])]"
   ]
  },
  {
   "cell_type": "markdown",
   "metadata": {},
   "source": [
    "<hr>\n",
    "\n",
    "## ELMo\n",
    "### Getting the data"
   ]
  },
  {
   "cell_type": "code",
   "execution_count": 5,
   "metadata": {},
   "outputs": [],
   "source": [
    "elmo = data.get_elmo()"
   ]
  },
  {
   "cell_type": "markdown",
   "metadata": {},
   "source": [
    "### Applying classifier\n",
    "#### Max pooling"
   ]
  },
  {
   "cell_type": "code",
   "execution_count": 6,
   "metadata": {},
   "outputs": [],
   "source": [
    "max_pooled_elmo = {\n",
    "    dataset: pd.DataFrame(list(elmo[dataset].statement.apply(lambda statement: max_pool(statement)).values))\n",
    "    for dataset in elmo.keys()\n",
    "}"
   ]
  },
  {
   "cell_type": "code",
   "execution_count": 7,
   "metadata": {},
   "outputs": [
    {
     "name": "stderr",
     "output_type": "stream",
     "text": [
      "/Users/martijn/anaconda3/lib/python3.6/site-packages/sklearn/linear_model/logistic.py:469: FutureWarning:\n",
      "\n",
      "Default multi_class will be changed to 'auto' in 0.22. Specify the multi_class option to silence this warning.\n",
      "\n",
      "/Users/martijn/anaconda3/lib/python3.6/site-packages/sklearn/linear_model/logistic.py:469: FutureWarning:\n",
      "\n",
      "Default multi_class will be changed to 'auto' in 0.22. Specify the multi_class option to silence this warning.\n",
      "\n",
      "/Users/martijn/anaconda3/lib/python3.6/site-packages/sklearn/linear_model/logistic.py:947: ConvergenceWarning:\n",
      "\n",
      "lbfgs failed to converge. Increase the number of iterations.\n",
      "\n",
      "/Users/martijn/anaconda3/lib/python3.6/site-packages/sklearn/linear_model/logistic.py:469: FutureWarning:\n",
      "\n",
      "Default multi_class will be changed to 'auto' in 0.22. Specify the multi_class option to silence this warning.\n",
      "\n",
      "/Users/martijn/anaconda3/lib/python3.6/site-packages/sklearn/linear_model/logistic.py:947: ConvergenceWarning:\n",
      "\n",
      "lbfgs failed to converge. Increase the number of iterations.\n",
      "\n",
      "/Users/martijn/anaconda3/lib/python3.6/site-packages/sklearn/linear_model/logistic.py:947: ConvergenceWarning:\n",
      "\n",
      "lbfgs failed to converge. Increase the number of iterations.\n",
      "\n",
      "/Users/martijn/anaconda3/lib/python3.6/site-packages/sklearn/linear_model/logistic.py:469: FutureWarning:\n",
      "\n",
      "Default multi_class will be changed to 'auto' in 0.22. Specify the multi_class option to silence this warning.\n",
      "\n",
      "/Users/martijn/anaconda3/lib/python3.6/site-packages/sklearn/linear_model/logistic.py:947: ConvergenceWarning:\n",
      "\n",
      "lbfgs failed to converge. Increase the number of iterations.\n",
      "\n",
      "/Users/martijn/anaconda3/lib/python3.6/site-packages/sklearn/linear_model/logistic.py:947: ConvergenceWarning:\n",
      "\n",
      "lbfgs failed to converge. Increase the number of iterations.\n",
      "\n",
      "/Users/martijn/anaconda3/lib/python3.6/site-packages/sklearn/linear_model/logistic.py:469: FutureWarning:\n",
      "\n",
      "Default multi_class will be changed to 'auto' in 0.22. Specify the multi_class option to silence this warning.\n",
      "\n",
      "/Users/martijn/anaconda3/lib/python3.6/site-packages/sklearn/linear_model/logistic.py:947: ConvergenceWarning:\n",
      "\n",
      "lbfgs failed to converge. Increase the number of iterations.\n",
      "\n",
      "/Users/martijn/anaconda3/lib/python3.6/site-packages/sklearn/linear_model/logistic.py:947: ConvergenceWarning:\n",
      "\n",
      "lbfgs failed to converge. Increase the number of iterations.\n",
      "\n",
      "/Users/martijn/anaconda3/lib/python3.6/site-packages/sklearn/linear_model/logistic.py:947: ConvergenceWarning:\n",
      "\n",
      "lbfgs failed to converge. Increase the number of iterations.\n",
      "\n",
      "/Users/martijn/anaconda3/lib/python3.6/site-packages/sklearn/linear_model/logistic.py:947: ConvergenceWarning:\n",
      "\n",
      "lbfgs failed to converge. Increase the number of iterations.\n",
      "\n",
      "/Users/martijn/anaconda3/lib/python3.6/site-packages/sklearn/linear_model/logistic.py:947: ConvergenceWarning:\n",
      "\n",
      "lbfgs failed to converge. Increase the number of iterations.\n",
      "\n",
      "/Users/martijn/anaconda3/lib/python3.6/site-packages/sklearn/linear_model/logistic.py:947: ConvergenceWarning:\n",
      "\n",
      "lbfgs failed to converge. Increase the number of iterations.\n",
      "\n",
      "/Users/martijn/anaconda3/lib/python3.6/site-packages/sklearn/linear_model/logistic.py:947: ConvergenceWarning:\n",
      "\n",
      "lbfgs failed to converge. Increase the number of iterations.\n",
      "\n",
      "/Users/martijn/anaconda3/lib/python3.6/site-packages/sklearn/linear_model/logistic.py:947: ConvergenceWarning:\n",
      "\n",
      "lbfgs failed to converge. Increase the number of iterations.\n",
      "\n",
      "/Users/martijn/anaconda3/lib/python3.6/site-packages/sklearn/linear_model/logistic.py:947: ConvergenceWarning:\n",
      "\n",
      "lbfgs failed to converge. Increase the number of iterations.\n",
      "\n",
      "/Users/martijn/anaconda3/lib/python3.6/site-packages/sklearn/linear_model/logistic.py:947: ConvergenceWarning:\n",
      "\n",
      "lbfgs failed to converge. Increase the number of iterations.\n",
      "\n"
     ]
    },
    {
     "data": {
      "text/plain": [
       "0.524901185770751"
      ]
     },
     "execution_count": 7,
     "metadata": {},
     "output_type": "execute_result"
    }
   ],
   "source": [
    "clfs.get_logres_score(max_pooled_elmo['train'], max_pooled_elmo['test'], max_pooled_elmo['validation'], general['train']['label'], general['test']['label'], general['validation']['label'])"
   ]
  },
  {
   "cell_type": "markdown",
   "metadata": {},
   "source": [
    "#### Min pooling"
   ]
  },
  {
   "cell_type": "code",
   "execution_count": 66,
   "metadata": {},
   "outputs": [
    {
     "data": {
      "text/plain": [
       "0.5241106719367589"
      ]
     },
     "execution_count": 66,
     "metadata": {},
     "output_type": "execute_result"
    }
   ],
   "source": [
    "min_pooled_elmo = {\n",
    "    dataset: pd.DataFrame(list(elmo[dataset].statement.apply(lambda statement: min_pool(statement)).values))\n",
    "    for dataset in elmo.keys()\n",
    "}\n",
    "\n",
    "clfs.get_logres_score(min_pooled_elmo['train'], min_pooled_elmo['test'], min_pooled_elmo['validation'], general['train']['label'], general['test']['label'], general['validation']['label'])"
   ]
  },
  {
   "cell_type": "markdown",
   "metadata": {},
   "source": [
    "#### Average pooling"
   ]
  },
  {
   "cell_type": "code",
   "execution_count": 70,
   "metadata": {},
   "outputs": [
    {
     "data": {
      "text/plain": [
       "0.51699604743083"
      ]
     },
     "execution_count": 70,
     "metadata": {},
     "output_type": "execute_result"
    }
   ],
   "source": [
    "average_pooled_elmo = {\n",
    "    dataset: pd.DataFrame(list(elmo[dataset].statement.apply(lambda statement: average_pool(statement)).values))\n",
    "    for dataset in elmo.keys()\n",
    "}\n",
    "\n",
    "clfs.get_logres_score(average_pooled_elmo['train'], average_pooled_elmo['test'], average_pooled_elmo['validation'], general['train']['label'], general['test']['label'], general['validation']['label'])"
   ]
  },
  {
   "cell_type": "markdown",
   "metadata": {},
   "source": [
    "<hr>\n",
    "\n",
    "## BERT\n",
    "### Getting the data"
   ]
  },
  {
   "cell_type": "code",
   "execution_count": 3,
   "metadata": {},
   "outputs": [],
   "source": [
    "bert = data.get_bert()"
   ]
  },
  {
   "cell_type": "markdown",
   "metadata": {},
   "source": [
    "### Applying classifier\n",
    "#### Max pooling"
   ]
  },
  {
   "cell_type": "code",
   "execution_count": 77,
   "metadata": {},
   "outputs": [
    {
     "data": {
      "text/plain": [
       "0.5296442687747036"
      ]
     },
     "execution_count": 77,
     "metadata": {},
     "output_type": "execute_result"
    }
   ],
   "source": [
    "max_pooled_bert = {\n",
    "    dataset: pd.DataFrame(list(bert[dataset].statement.apply(lambda statement: max_pool(statement)).values))\n",
    "    for dataset in bert.keys()\n",
    "}\n",
    "\n",
    "clfs.get_logres_score(max_pooled_bert['train'], max_pooled_bert['test'], max_pooled_bert['validation'], general['train']['label'], general['test']['label'], general['validation']['label'])"
   ]
  },
  {
   "cell_type": "markdown",
   "metadata": {},
   "source": [
    "#### Min pooling"
   ]
  },
  {
   "cell_type": "code",
   "execution_count": 81,
   "metadata": {},
   "outputs": [
    {
     "data": {
      "text/plain": [
       "0.5114624505928854"
      ]
     },
     "execution_count": 81,
     "metadata": {},
     "output_type": "execute_result"
    }
   ],
   "source": [
    "min_pooled_bert = {\n",
    "    dataset: pd.DataFrame(list(bert[dataset].statement.apply(lambda statement: min_pool(statement)).values))\n",
    "    for dataset in bert.keys()\n",
    "}\n",
    "\n",
    "clfs.get_logres_score(min_pooled_bert['train'], min_pooled_bert['test'], min_pooled_bert['validation'], general['train']['label'], general['test']['label'], general['validation']['label'])"
   ]
  },
  {
   "cell_type": "markdown",
   "metadata": {},
   "source": [
    "#### Average pooling"
   ]
  },
  {
   "cell_type": "code",
   "execution_count": 82,
   "metadata": {},
   "outputs": [
    {
     "data": {
      "text/plain": [
       "0.5043478260869565"
      ]
     },
     "execution_count": 82,
     "metadata": {},
     "output_type": "execute_result"
    }
   ],
   "source": [
    "average_pooled_bert = {\n",
    "    dataset: pd.DataFrame(list(bert[dataset].statement.apply(lambda statement: average_pool(statement)).values))\n",
    "    for dataset in bert.keys()\n",
    "}\n",
    "\n",
    "clfs.get_logres_score(average_pooled_bert['train'], average_pooled_bert['test'], average_pooled_bert['validation'], general['train']['label'], general['test']['label'], general['validation']['label'])"
   ]
  },
  {
   "cell_type": "markdown",
   "metadata": {},
   "source": [
    "<hr>\n",
    "\n",
    "# Results"
   ]
  },
  {
   "cell_type": "code",
   "execution_count": 3,
   "metadata": {},
   "outputs": [
    {
     "data": {
      "application/vnd.plotly.v1+json": {
       "config": {
        "linkText": "Export to plot.ly",
        "plotlyServerURL": "https://plot.ly",
        "showLink": false
       },
       "data": [
        {
         "name": "InferSent",
         "type": "bar",
         "uid": "537add83-7f8c-4251-af11-f0e2d9d3b555",
         "x": [
          "Max pooling",
          "Average pooling",
          "Min pooling"
         ],
         "y": [
          0.4853754940711462,
          0.46561264822134385,
          0.43715415019762843
         ]
        },
        {
         "name": "ELMo",
         "type": "bar",
         "uid": "7477ff62-de3b-47a6-bac9-6c8953ce2d74",
         "x": [
          "Max pooling",
          "Average pooling",
          "Min pooling"
         ],
         "y": [
          0.525691699604743,
          0.51699604743083,
          0.5241106719367589
         ]
        },
        {
         "name": "BERT",
         "type": "bar",
         "uid": "d3e000d4-395f-4071-8203-efaacd9e856c",
         "x": [
          "Max pooling",
          "Average pooling",
          "Min pooling"
         ],
         "y": [
          0.5296442687747036,
          0.5043478260869565,
          0.5114624505928854
         ]
        }
       ],
       "layout": {
        "barmode": "group",
        "title": {
         "text": "Test set accuracies with different pooling techniques"
        }
       }
      },
      "text/html": [
       "<div id=\"12f50a54-699b-4cb4-bbe7-122a91b265a8\" style=\"height: 525px; width: 100%;\" class=\"plotly-graph-div\"></div><script type=\"text/javascript\">require([\"plotly\"], function(Plotly) { window.PLOTLYENV=window.PLOTLYENV || {};window.PLOTLYENV.BASE_URL=\"https://plot.ly\";\n",
       "if (document.getElementById(\"12f50a54-699b-4cb4-bbe7-122a91b265a8\")) {\n",
       "    Plotly.newPlot(\"12f50a54-699b-4cb4-bbe7-122a91b265a8\", [{\"name\": \"InferSent\", \"x\": [\"Max pooling\", \"Average pooling\", \"Min pooling\"], \"y\": [0.4853754940711462, 0.46561264822134385, 0.43715415019762843], \"type\": \"bar\", \"uid\": \"537add83-7f8c-4251-af11-f0e2d9d3b555\"}, {\"name\": \"ELMo\", \"x\": [\"Max pooling\", \"Average pooling\", \"Min pooling\"], \"y\": [0.525691699604743, 0.51699604743083, 0.5241106719367589], \"type\": \"bar\", \"uid\": \"7477ff62-de3b-47a6-bac9-6c8953ce2d74\"}, {\"name\": \"BERT\", \"x\": [\"Max pooling\", \"Average pooling\", \"Min pooling\"], \"y\": [0.5296442687747036, 0.5043478260869565, 0.5114624505928854], \"type\": \"bar\", \"uid\": \"d3e000d4-395f-4071-8203-efaacd9e856c\"}], {\"barmode\": \"group\", \"title\": {\"text\": \"Test set accuracies with different pooling techniques\"}}, {\"showLink\": false, \"linkText\": \"Export to plot.ly\", \"plotlyServerURL\": \"https://plot.ly\"}); \n",
       "}\n",
       "});</script><script type=\"text/javascript\">window.addEventListener(\"resize\", function(){if (document.getElementById(\"12f50a54-699b-4cb4-bbe7-122a91b265a8\")) {window._Plotly.Plots.resize(document.getElementById(\"12f50a54-699b-4cb4-bbe7-122a91b265a8\"));};})</script>"
      ],
      "text/vnd.plotly.v1+html": [
       "<div id=\"12f50a54-699b-4cb4-bbe7-122a91b265a8\" style=\"height: 525px; width: 100%;\" class=\"plotly-graph-div\"></div><script type=\"text/javascript\">require([\"plotly\"], function(Plotly) { window.PLOTLYENV=window.PLOTLYENV || {};window.PLOTLYENV.BASE_URL=\"https://plot.ly\";\n",
       "if (document.getElementById(\"12f50a54-699b-4cb4-bbe7-122a91b265a8\")) {\n",
       "    Plotly.newPlot(\"12f50a54-699b-4cb4-bbe7-122a91b265a8\", [{\"name\": \"InferSent\", \"x\": [\"Max pooling\", \"Average pooling\", \"Min pooling\"], \"y\": [0.4853754940711462, 0.46561264822134385, 0.43715415019762843], \"type\": \"bar\", \"uid\": \"537add83-7f8c-4251-af11-f0e2d9d3b555\"}, {\"name\": \"ELMo\", \"x\": [\"Max pooling\", \"Average pooling\", \"Min pooling\"], \"y\": [0.525691699604743, 0.51699604743083, 0.5241106719367589], \"type\": \"bar\", \"uid\": \"7477ff62-de3b-47a6-bac9-6c8953ce2d74\"}, {\"name\": \"BERT\", \"x\": [\"Max pooling\", \"Average pooling\", \"Min pooling\"], \"y\": [0.5296442687747036, 0.5043478260869565, 0.5114624505928854], \"type\": \"bar\", \"uid\": \"d3e000d4-395f-4071-8203-efaacd9e856c\"}], {\"barmode\": \"group\", \"title\": {\"text\": \"Test set accuracies with different pooling techniques\"}}, {\"showLink\": false, \"linkText\": \"Export to plot.ly\", \"plotlyServerURL\": \"https://plot.ly\"}); \n",
       "}\n",
       "});</script><script type=\"text/javascript\">window.addEventListener(\"resize\", function(){if (document.getElementById(\"12f50a54-699b-4cb4-bbe7-122a91b265a8\")) {window._Plotly.Plots.resize(document.getElementById(\"12f50a54-699b-4cb4-bbe7-122a91b265a8\"));};})</script>"
      ]
     },
     "metadata": {},
     "output_type": "display_data"
    }
   ],
   "source": [
    "infersent_data = go.Bar(\n",
    "    x = ['Max pooling', 'Average pooling', 'Min pooling'],\n",
    "    y = [0.4853754940711462, 0.46561264822134385, 0.43715415019762843],\n",
    "    name = 'InferSent'\n",
    ")\n",
    "\n",
    "elmo_data = go.Bar(\n",
    "    x = ['Max pooling', 'Average pooling', 'Min pooling'],\n",
    "    y = [0.525691699604743, 0.51699604743083, 0.5241106719367589],\n",
    "    name = 'ELMo'\n",
    ")\n",
    "\n",
    "bert_data = go.Bar(\n",
    "    x = ['Max pooling', 'Average pooling', 'Min pooling'],\n",
    "    y = [0.5296442687747036, 0.5043478260869565, 0.5114624505928854],\n",
    "    name = 'BERT'\n",
    ")\n",
    "\n",
    "data = [infersent_data, elmo_data, bert_data]\n",
    "layout = go.Layout(\n",
    "    barmode = 'group',\n",
    "    title = 'Test set accuracies with different pooling techniques'\n",
    ")\n",
    "\n",
    "fig = go.Figure(data = data, layout = layout)\n",
    "iplot(fig)"
   ]
  },
  {
   "cell_type": "markdown",
   "metadata": {},
   "source": [
    "<hr>\n",
    "\n",
    "### References\n",
    "\n",
    "```\n",
    "@inproceedings{boureau2010theoretical,\n",
    "  title={A theoretical analysis of feature pooling in visual recognition},\n",
    "  author={Boureau, Y-Lan and Ponce, Jean and LeCun, Yann},\n",
    "  booktitle={Proceedings of the 27th international conference on machine learning (ICML-10)},\n",
    "  pages={111--118},\n",
    "  year={2010}\n",
    "}\n",
    "```"
   ]
  },
  {
   "cell_type": "code",
   "execution_count": null,
   "metadata": {},
   "outputs": [],
   "source": []
  }
 ],
 "metadata": {
  "kernelspec": {
   "display_name": "Python 3",
   "language": "python",
   "name": "python3"
  },
  "language_info": {
   "codemirror_mode": {
    "name": "ipython",
    "version": 3
   },
   "file_extension": ".py",
   "mimetype": "text/x-python",
   "name": "python",
   "nbconvert_exporter": "python",
   "pygments_lexer": "ipython3",
   "version": "3.6.5"
  }
 },
 "nbformat": 4,
 "nbformat_minor": 2
}
