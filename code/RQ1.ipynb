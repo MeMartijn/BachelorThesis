{
 "cells": [
  {
   "cell_type": "markdown",
   "metadata": {},
   "source": [
    "# Turning vectors into a fixed length\n",
    "The statements in the Liar dataset do not hold a fixed length needed as input for machine learning algorithms. This means that the vectors generated from the different embedding techniques vary in length and need to be generalized to a fixed length. \n",
    "In this notebook, the first research question will be answered: *which way of reshaping vectors to a fixed length works best for classifying fake news?*\n",
    "\n",
    "<hr>\n",
    "\n",
    "## Exploring the options\n",
    "In computer vision, feature pooling is used to reduce noise in data. The goal of this step is to transform joint feature representation into a new, more usable one that preserves important information while discarding irrelevant details. Pooling techniques such as max pooling and average pooling perform mathematical operations to reduce several numbers into one [(Boureau et al., 2010)](https://www.di.ens.fr/willow/pdfs/icml2010b.pdf). In the case of transforming the shape of the data, we can reduce vectors to the smallest vector in the dataset to create a uniform shape."
   ]
  },
  {
   "cell_type": "code",
   "execution_count": 1,
   "metadata": {},
   "outputs": [
    {
     "data": {
      "text/html": [
       "<script type=\"text/javascript\">window.PlotlyConfig = {MathJaxConfig: 'local'};</script><script type=\"text/javascript\">if (window.MathJax) {MathJax.Hub.Config({SVG: {font: \"STIX-Web\"}});}</script><script>requirejs.config({paths: { 'plotly': ['https://cdn.plot.ly/plotly-latest.min']},});if(!window._Plotly) {require(['plotly'],function(plotly) {window._Plotly=plotly;});}</script>"
      ],
      "text/vnd.plotly.v1+html": [
       "<script type=\"text/javascript\">window.PlotlyConfig = {MathJaxConfig: 'local'};</script><script type=\"text/javascript\">if (window.MathJax) {MathJax.Hub.Config({SVG: {font: \"STIX-Web\"}});}</script><script>requirejs.config({paths: { 'plotly': ['https://cdn.plot.ly/plotly-latest.min']},});if(!window._Plotly) {require(['plotly'],function(plotly) {window._Plotly=plotly;});}</script>"
      ]
     },
     "metadata": {},
     "output_type": "display_data"
    }
   ],
   "source": [
    "# General imports\n",
    "import json\n",
    "import plotly.graph_objs as go\n",
    "from plotly.offline import download_plotlyjs, init_notebook_mode, plot, iplot\n",
    "from tqdm.auto import tqdm\n",
    "\n",
    "# Set offline mode for plotly\n",
    "init_notebook_mode(connected = True)"
   ]
  },
  {
   "cell_type": "markdown",
   "metadata": {},
   "source": [
    "<hr>\n",
    "\n",
    "## Selecting a regularization technique"
   ]
  },
  {
   "cell_type": "code",
   "execution_count": 2,
   "metadata": {},
   "outputs": [
    {
     "data": {
      "application/vnd.plotly.v1+json": {
       "config": {
        "linkText": "Export to plot.ly",
        "plotlyServerURL": "https://plot.ly",
        "showLink": false
       },
       "data": [
        {
         "name": "l1",
         "type": "bar",
         "uid": "f5705680-15e3-4594-bb4c-e0eb6134cdf3",
         "x": [
          "elmo",
          "gpt",
          "flair",
          "bert",
          "transformerxl",
          "gpt2"
         ],
         "y": [
          0.5019762845849802,
          0.491699604743083,
          0.524901185770751,
          0.5138339920948617,
          0.4956521739130435,
          0.48853754940711464
         ]
        },
        {
         "name": "l2",
         "type": "bar",
         "uid": "e1dbcf44-28dc-4955-9425-f4de8f69a6d7",
         "x": [
          "elmo",
          "gpt",
          "flair",
          "bert",
          "transformerxl",
          "gpt2"
         ],
         "y": [
          0.525691699604743,
          0.4893280632411067,
          0.525691699604743,
          0.5296442687747036,
          0.49881422924901186,
          0.48300395256916995
         ]
        }
       ],
       "layout": {
        "barmode": "group",
        "yaxis": {
         "range": [
          0.45,
          0.55
         ]
        }
       }
      },
      "text/html": [
       "<div id=\"a116a427-d00c-4f9a-9b48-0b151c9f2eed\" style=\"height: 525px; width: 100%;\" class=\"plotly-graph-div\"></div><script type=\"text/javascript\">require([\"plotly\"], function(Plotly) { window.PLOTLYENV=window.PLOTLYENV || {};window.PLOTLYENV.BASE_URL=\"https://plot.ly\";\n",
       "if (document.getElementById(\"a116a427-d00c-4f9a-9b48-0b151c9f2eed\")) {\n",
       "    Plotly.newPlot(\"a116a427-d00c-4f9a-9b48-0b151c9f2eed\", [{\"name\": \"l1\", \"x\": [\"elmo\", \"gpt\", \"flair\", \"bert\", \"transformerxl\", \"gpt2\"], \"y\": [0.5019762845849802, 0.491699604743083, 0.524901185770751, 0.5138339920948617, 0.4956521739130435, 0.48853754940711464], \"type\": \"bar\", \"uid\": \"f5705680-15e3-4594-bb4c-e0eb6134cdf3\"}, {\"name\": \"l2\", \"x\": [\"elmo\", \"gpt\", \"flair\", \"bert\", \"transformerxl\", \"gpt2\"], \"y\": [0.525691699604743, 0.4893280632411067, 0.525691699604743, 0.5296442687747036, 0.49881422924901186, 0.48300395256916995], \"type\": \"bar\", \"uid\": \"e1dbcf44-28dc-4955-9425-f4de8f69a6d7\"}], {\"barmode\": \"group\", \"yaxis\": {\"range\": [0.45, 0.55]}}, {\"showLink\": false, \"linkText\": \"Export to plot.ly\", \"plotlyServerURL\": \"https://plot.ly\"}); \n",
       "}\n",
       "});</script><script type=\"text/javascript\">window.addEventListener(\"resize\", function(){if (document.getElementById(\"a116a427-d00c-4f9a-9b48-0b151c9f2eed\")) {window._Plotly.Plots.resize(document.getElementById(\"a116a427-d00c-4f9a-9b48-0b151c9f2eed\"));};})</script>"
      ],
      "text/vnd.plotly.v1+html": [
       "<div id=\"a116a427-d00c-4f9a-9b48-0b151c9f2eed\" style=\"height: 525px; width: 100%;\" class=\"plotly-graph-div\"></div><script type=\"text/javascript\">require([\"plotly\"], function(Plotly) { window.PLOTLYENV=window.PLOTLYENV || {};window.PLOTLYENV.BASE_URL=\"https://plot.ly\";\n",
       "if (document.getElementById(\"a116a427-d00c-4f9a-9b48-0b151c9f2eed\")) {\n",
       "    Plotly.newPlot(\"a116a427-d00c-4f9a-9b48-0b151c9f2eed\", [{\"name\": \"l1\", \"x\": [\"elmo\", \"gpt\", \"flair\", \"bert\", \"transformerxl\", \"gpt2\"], \"y\": [0.5019762845849802, 0.491699604743083, 0.524901185770751, 0.5138339920948617, 0.4956521739130435, 0.48853754940711464], \"type\": \"bar\", \"uid\": \"f5705680-15e3-4594-bb4c-e0eb6134cdf3\"}, {\"name\": \"l2\", \"x\": [\"elmo\", \"gpt\", \"flair\", \"bert\", \"transformerxl\", \"gpt2\"], \"y\": [0.525691699604743, 0.4893280632411067, 0.525691699604743, 0.5296442687747036, 0.49881422924901186, 0.48300395256916995], \"type\": \"bar\", \"uid\": \"e1dbcf44-28dc-4955-9425-f4de8f69a6d7\"}], {\"barmode\": \"group\", \"yaxis\": {\"range\": [0.45, 0.55]}}, {\"showLink\": false, \"linkText\": \"Export to plot.ly\", \"plotlyServerURL\": \"https://plot.ly\"}); \n",
       "}\n",
       "});</script><script type=\"text/javascript\">window.addEventListener(\"resize\", function(){if (document.getElementById(\"a116a427-d00c-4f9a-9b48-0b151c9f2eed\")) {window._Plotly.Plots.resize(document.getElementById(\"a116a427-d00c-4f9a-9b48-0b151c9f2eed\"));};})</script>"
      ]
     },
     "metadata": {},
     "output_type": "display_data"
    }
   ],
   "source": [
    "with open('results.json') as json_data:\n",
    "    results = json.load(json_data)\n",
    "    \n",
    "    # Fasttext results are only used as a benchmark for neural classification, therefore can be left out \n",
    "    del results['fasttext']\n",
    "    \n",
    "    data = [go.Bar(\n",
    "        x = list(results.keys()),\n",
    "        y = [results[embedding]['3']['logres'][reg]['max'] for embedding in results.keys()],\n",
    "        name = reg\n",
    "    ) for reg in ['l1', 'l2']]\n",
    "    \n",
    "    # Test set accuracies on logistic regression with different regularization types\n",
    "    layout = go.Layout(\n",
    "        barmode = 'group',\n",
    "        yaxis=dict(\n",
    "            range=[0.45, 0.55]\n",
    "        )\n",
    "    )\n",
    "\n",
    "    fig = go.Figure(data = data, layout = layout)\n",
    "    iplot(fig)"
   ]
  },
  {
   "cell_type": "markdown",
   "metadata": {},
   "source": [
    "<hr>\n",
    "\n",
    "## Comparing pooling performance"
   ]
  },
  {
   "cell_type": "code",
   "execution_count": 3,
   "metadata": {},
   "outputs": [
    {
     "data": {
      "application/vnd.plotly.v1+json": {
       "config": {
        "linkText": "Export to plot.ly",
        "plotlyServerURL": "https://plot.ly",
        "showLink": false
       },
       "data": [
        {
         "name": "max",
         "type": "bar",
         "uid": "f0b70407-234f-4a67-9917-c9c1b42487a6",
         "x": [
          "elmo",
          "gpt",
          "flair",
          "bert",
          "transformerxl",
          "gpt2"
         ],
         "y": [
          0.525691699604743,
          0.4893280632411067,
          0.525691699604743,
          0.5296442687747036,
          0.49881422924901186,
          0.48300395256916995
         ]
        },
        {
         "name": "min",
         "type": "bar",
         "uid": "7a85cdcf-1a18-48b7-a7c3-f967060b1e24",
         "x": [
          "elmo",
          "gpt",
          "flair",
          "bert",
          "transformerxl",
          "gpt2"
         ],
         "y": [
          0.5241106719367589,
          0.5035573122529644,
          0.5130434782608696,
          0.5114624505928854,
          0.48379446640316204,
          0.48142292490118577
         ]
        },
        {
         "name": "average",
         "type": "bar",
         "uid": "35cecae5-4fda-4758-80ab-7cc1d5bdff02",
         "x": [
          "elmo",
          "gpt",
          "flair",
          "bert",
          "transformerxl",
          "gpt2"
         ],
         "y": [
          0.51699604743083,
          0.5011857707509881,
          0.5272727272727272,
          0.5106719367588933,
          0.4893280632411067,
          0.5296442687747036
         ]
        }
       ],
       "layout": {
        "barmode": "group",
        "yaxis": {
         "range": [
          0.45,
          0.55
         ]
        }
       }
      },
      "text/html": [
       "<div id=\"39eae0ce-cb26-49a3-90e1-1b235e2ea31a\" style=\"height: 525px; width: 100%;\" class=\"plotly-graph-div\"></div><script type=\"text/javascript\">require([\"plotly\"], function(Plotly) { window.PLOTLYENV=window.PLOTLYENV || {};window.PLOTLYENV.BASE_URL=\"https://plot.ly\";\n",
       "if (document.getElementById(\"39eae0ce-cb26-49a3-90e1-1b235e2ea31a\")) {\n",
       "    Plotly.newPlot(\"39eae0ce-cb26-49a3-90e1-1b235e2ea31a\", [{\"name\": \"max\", \"x\": [\"elmo\", \"gpt\", \"flair\", \"bert\", \"transformerxl\", \"gpt2\"], \"y\": [0.525691699604743, 0.4893280632411067, 0.525691699604743, 0.5296442687747036, 0.49881422924901186, 0.48300395256916995], \"type\": \"bar\", \"uid\": \"f0b70407-234f-4a67-9917-c9c1b42487a6\"}, {\"name\": \"min\", \"x\": [\"elmo\", \"gpt\", \"flair\", \"bert\", \"transformerxl\", \"gpt2\"], \"y\": [0.5241106719367589, 0.5035573122529644, 0.5130434782608696, 0.5114624505928854, 0.48379446640316204, 0.48142292490118577], \"type\": \"bar\", \"uid\": \"7a85cdcf-1a18-48b7-a7c3-f967060b1e24\"}, {\"name\": \"average\", \"x\": [\"elmo\", \"gpt\", \"flair\", \"bert\", \"transformerxl\", \"gpt2\"], \"y\": [0.51699604743083, 0.5011857707509881, 0.5272727272727272, 0.5106719367588933, 0.4893280632411067, 0.5296442687747036], \"type\": \"bar\", \"uid\": \"35cecae5-4fda-4758-80ab-7cc1d5bdff02\"}], {\"barmode\": \"group\", \"yaxis\": {\"range\": [0.45, 0.55]}}, {\"showLink\": false, \"linkText\": \"Export to plot.ly\", \"plotlyServerURL\": \"https://plot.ly\"}); \n",
       "}\n",
       "});</script><script type=\"text/javascript\">window.addEventListener(\"resize\", function(){if (document.getElementById(\"39eae0ce-cb26-49a3-90e1-1b235e2ea31a\")) {window._Plotly.Plots.resize(document.getElementById(\"39eae0ce-cb26-49a3-90e1-1b235e2ea31a\"));};})</script>"
      ],
      "text/vnd.plotly.v1+html": [
       "<div id=\"39eae0ce-cb26-49a3-90e1-1b235e2ea31a\" style=\"height: 525px; width: 100%;\" class=\"plotly-graph-div\"></div><script type=\"text/javascript\">require([\"plotly\"], function(Plotly) { window.PLOTLYENV=window.PLOTLYENV || {};window.PLOTLYENV.BASE_URL=\"https://plot.ly\";\n",
       "if (document.getElementById(\"39eae0ce-cb26-49a3-90e1-1b235e2ea31a\")) {\n",
       "    Plotly.newPlot(\"39eae0ce-cb26-49a3-90e1-1b235e2ea31a\", [{\"name\": \"max\", \"x\": [\"elmo\", \"gpt\", \"flair\", \"bert\", \"transformerxl\", \"gpt2\"], \"y\": [0.525691699604743, 0.4893280632411067, 0.525691699604743, 0.5296442687747036, 0.49881422924901186, 0.48300395256916995], \"type\": \"bar\", \"uid\": \"f0b70407-234f-4a67-9917-c9c1b42487a6\"}, {\"name\": \"min\", \"x\": [\"elmo\", \"gpt\", \"flair\", \"bert\", \"transformerxl\", \"gpt2\"], \"y\": [0.5241106719367589, 0.5035573122529644, 0.5130434782608696, 0.5114624505928854, 0.48379446640316204, 0.48142292490118577], \"type\": \"bar\", \"uid\": \"7a85cdcf-1a18-48b7-a7c3-f967060b1e24\"}, {\"name\": \"average\", \"x\": [\"elmo\", \"gpt\", \"flair\", \"bert\", \"transformerxl\", \"gpt2\"], \"y\": [0.51699604743083, 0.5011857707509881, 0.5272727272727272, 0.5106719367588933, 0.4893280632411067, 0.5296442687747036], \"type\": \"bar\", \"uid\": \"35cecae5-4fda-4758-80ab-7cc1d5bdff02\"}], {\"barmode\": \"group\", \"yaxis\": {\"range\": [0.45, 0.55]}}, {\"showLink\": false, \"linkText\": \"Export to plot.ly\", \"plotlyServerURL\": \"https://plot.ly\"}); \n",
       "}\n",
       "});</script><script type=\"text/javascript\">window.addEventListener(\"resize\", function(){if (document.getElementById(\"39eae0ce-cb26-49a3-90e1-1b235e2ea31a\")) {window._Plotly.Plots.resize(document.getElementById(\"39eae0ce-cb26-49a3-90e1-1b235e2ea31a\"));};})</script>"
      ]
     },
     "metadata": {},
     "output_type": "display_data"
    }
   ],
   "source": [
    "with open('results.json') as json_data:\n",
    "    results = json.load(json_data)\n",
    "    \n",
    "    # Fasttext results are only used as a benchmark for neural classification, therefore can be left out \n",
    "    del results['fasttext']\n",
    "    \n",
    "    data = [go.Bar(\n",
    "        x = list(results[embedding]['3']['logres']['l2'].keys()),\n",
    "        y = list(results[embedding]['3']['logres']['l2'].values()),\n",
    "        name = embedding\n",
    "    ) for embedding in results.keys()]\n",
    "    \n",
    "    data = [go.Bar(\n",
    "        x = list(results.keys()),\n",
    "        y = [results[embedding]['3']['logres']['l2'][pooling] for embedding in results.keys()],\n",
    "        name = pooling\n",
    "    ) for pooling in results['gpt']['3']['logres']['l2'].keys()]\n",
    "    \n",
    "    \n",
    "    # Test set accuracies on logistic regression with different pooling techniques\n",
    "    layout = go.Layout(\n",
    "        barmode = 'group',\n",
    "        yaxis=dict(\n",
    "            range=[0.45, 0.55]\n",
    "        )\n",
    "    )\n",
    "\n",
    "    fig = go.Figure(data = data, layout = layout)\n",
    "    \n",
    "    iplot(fig)"
   ]
  },
  {
   "cell_type": "markdown",
   "metadata": {},
   "source": [
    "<hr>\n",
    "\n",
    "### References\n",
    "\n",
    "```\n",
    "@inproceedings{boureau2010theoretical,\n",
    "  title={A theoretical analysis of feature pooling in visual recognition},\n",
    "  author={Boureau, Y-Lan and Ponce, Jean and LeCun, Yann},\n",
    "  booktitle={Proceedings of the 27th international conference on machine learning (ICML-10)},\n",
    "  pages={111--118},\n",
    "  year={2010}\n",
    "}\n",
    "```"
   ]
  }
 ],
 "metadata": {
  "kernelspec": {
   "display_name": "Python 3",
   "language": "python",
   "name": "python3"
  },
  "language_info": {
   "codemirror_mode": {
    "name": "ipython",
    "version": 3
   },
   "file_extension": ".py",
   "mimetype": "text/x-python",
   "name": "python",
   "nbconvert_exporter": "python",
   "pygments_lexer": "ipython3",
   "version": "3.6.5"
  }
 },
 "nbformat": 4,
 "nbformat_minor": 2
}
