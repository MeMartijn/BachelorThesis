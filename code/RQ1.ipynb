{
 "cells": [
  {
   "cell_type": "markdown",
   "metadata": {},
   "source": [
    "# Turning vectors into a fixed length\n",
    "The statements in the Liar dataset do not hold a fixed length needed as input for machine learning algorithms. This means that the vectors generated from the different embedding techniques vary in length and need to be generalized to a fixed length. \n",
    "In this notebook, the first research question will be answered: *which way of reshaping vectors to a fixed length works best for classifying fake news?*\n",
    "\n",
    "<hr>\n",
    "\n",
    "## Exploring the options\n",
    "In computer vision, feature pooling is used to reduce noise in data. The goal of this step is to transform joint feature representation into a new, more usable one that preserves important information while discarding irrelevant details. Pooling techniques such as max pooling and average pooling perform mathematical operations to reduce several numbers into one [(Boureau et al., 2010)](https://www.di.ens.fr/willow/pdfs/icml2010b.pdf). In the case of transforming the shape of the data, we can reduce vectors to the smallest vector in the dataset to create a uniform shape."
   ]
  },
  {
   "cell_type": "code",
   "execution_count": 8,
   "metadata": {},
   "outputs": [
    {
     "data": {
      "text/html": [
       "<script type=\"text/javascript\">window.PlotlyConfig = {MathJaxConfig: 'local'};</script><script type=\"text/javascript\">if (window.MathJax) {MathJax.Hub.Config({SVG: {font: \"STIX-Web\"}});}</script><script>requirejs.config({paths: { 'plotly': ['https://cdn.plot.ly/plotly-latest.min']},});if(!window._Plotly) {require(['plotly'],function(plotly) {window._Plotly=plotly;});}</script>"
      ],
      "text/vnd.plotly.v1+html": [
       "<script type=\"text/javascript\">window.PlotlyConfig = {MathJaxConfig: 'local'};</script><script type=\"text/javascript\">if (window.MathJax) {MathJax.Hub.Config({SVG: {font: \"STIX-Web\"}});}</script><script>requirejs.config({paths: { 'plotly': ['https://cdn.plot.ly/plotly-latest.min']},});if(!window._Plotly) {require(['plotly'],function(plotly) {window._Plotly=plotly;});}</script>"
      ]
     },
     "metadata": {},
     "output_type": "display_data"
    }
   ],
   "source": [
    "# General imports\n",
    "import json\n",
    "import plotly.graph_objs as go\n",
    "from plotly.offline import download_plotlyjs, init_notebook_mode, plot, iplot\n",
    "from tqdm.auto import tqdm\n",
    "\n",
    "# Set offline mode for plotly\n",
    "init_notebook_mode(connected = True)"
   ]
  },
  {
   "cell_type": "markdown",
   "metadata": {},
   "source": [
    "<hr>\n",
    "\n",
    "## Selecting a regularization technique"
   ]
  },
  {
   "cell_type": "code",
   "execution_count": 16,
   "metadata": {},
   "outputs": [
    {
     "data": {
      "application/vnd.plotly.v1+json": {
       "config": {
        "linkText": "Export to plot.ly",
        "plotlyServerURL": "https://plot.ly",
        "showLink": false
       },
       "data": [
        {
         "name": "l1",
         "type": "bar",
         "uid": "d9e8282c-6cf4-450b-8b63-c9c53bc09cb5",
         "x": [
          "elmo",
          "gpt",
          "flair",
          "bert",
          "transformerxl"
         ],
         "y": [
          0.5019762845849802,
          0.491699604743083,
          0.524901185770751,
          0.5138339920948617,
          0.4956521739130435
         ]
        },
        {
         "name": "l2",
         "type": "bar",
         "uid": "b8689381-1536-4b74-b748-101d5b7ebea8",
         "x": [
          "elmo",
          "gpt",
          "flair",
          "bert",
          "transformerxl"
         ],
         "y": [
          0.525691699604743,
          0.4893280632411067,
          0.525691699604743,
          0.5296442687747036,
          0.49881422924901186
         ]
        }
       ],
       "layout": {
        "barmode": "group",
        "title": {
         "text": "Test set accuracies on logistic regression with different regularization types"
        },
        "yaxis": {
         "range": [
          0.45,
          0.55
         ]
        }
       }
      },
      "text/html": [
       "<div id=\"f3d33ea7-6f60-4469-ace0-ac0f46348bbb\" style=\"height: 525px; width: 100%;\" class=\"plotly-graph-div\"></div><script type=\"text/javascript\">require([\"plotly\"], function(Plotly) { window.PLOTLYENV=window.PLOTLYENV || {};window.PLOTLYENV.BASE_URL=\"https://plot.ly\";\n",
       "if (document.getElementById(\"f3d33ea7-6f60-4469-ace0-ac0f46348bbb\")) {\n",
       "    Plotly.newPlot(\"f3d33ea7-6f60-4469-ace0-ac0f46348bbb\", [{\"name\": \"l1\", \"x\": [\"elmo\", \"gpt\", \"flair\", \"bert\", \"transformerxl\"], \"y\": [0.5019762845849802, 0.491699604743083, 0.524901185770751, 0.5138339920948617, 0.4956521739130435], \"type\": \"bar\", \"uid\": \"d9e8282c-6cf4-450b-8b63-c9c53bc09cb5\"}, {\"name\": \"l2\", \"x\": [\"elmo\", \"gpt\", \"flair\", \"bert\", \"transformerxl\"], \"y\": [0.525691699604743, 0.4893280632411067, 0.525691699604743, 0.5296442687747036, 0.49881422924901186], \"type\": \"bar\", \"uid\": \"b8689381-1536-4b74-b748-101d5b7ebea8\"}], {\"barmode\": \"group\", \"title\": {\"text\": \"Test set accuracies on logistic regression with different regularization types\"}, \"yaxis\": {\"range\": [0.45, 0.55]}}, {\"showLink\": false, \"linkText\": \"Export to plot.ly\", \"plotlyServerURL\": \"https://plot.ly\"}); \n",
       "}\n",
       "});</script><script type=\"text/javascript\">window.addEventListener(\"resize\", function(){if (document.getElementById(\"f3d33ea7-6f60-4469-ace0-ac0f46348bbb\")) {window._Plotly.Plots.resize(document.getElementById(\"f3d33ea7-6f60-4469-ace0-ac0f46348bbb\"));};})</script>"
      ],
      "text/vnd.plotly.v1+html": [
       "<div id=\"f3d33ea7-6f60-4469-ace0-ac0f46348bbb\" style=\"height: 525px; width: 100%;\" class=\"plotly-graph-div\"></div><script type=\"text/javascript\">require([\"plotly\"], function(Plotly) { window.PLOTLYENV=window.PLOTLYENV || {};window.PLOTLYENV.BASE_URL=\"https://plot.ly\";\n",
       "if (document.getElementById(\"f3d33ea7-6f60-4469-ace0-ac0f46348bbb\")) {\n",
       "    Plotly.newPlot(\"f3d33ea7-6f60-4469-ace0-ac0f46348bbb\", [{\"name\": \"l1\", \"x\": [\"elmo\", \"gpt\", \"flair\", \"bert\", \"transformerxl\"], \"y\": [0.5019762845849802, 0.491699604743083, 0.524901185770751, 0.5138339920948617, 0.4956521739130435], \"type\": \"bar\", \"uid\": \"d9e8282c-6cf4-450b-8b63-c9c53bc09cb5\"}, {\"name\": \"l2\", \"x\": [\"elmo\", \"gpt\", \"flair\", \"bert\", \"transformerxl\"], \"y\": [0.525691699604743, 0.4893280632411067, 0.525691699604743, 0.5296442687747036, 0.49881422924901186], \"type\": \"bar\", \"uid\": \"b8689381-1536-4b74-b748-101d5b7ebea8\"}], {\"barmode\": \"group\", \"title\": {\"text\": \"Test set accuracies on logistic regression with different regularization types\"}, \"yaxis\": {\"range\": [0.45, 0.55]}}, {\"showLink\": false, \"linkText\": \"Export to plot.ly\", \"plotlyServerURL\": \"https://plot.ly\"}); \n",
       "}\n",
       "});</script><script type=\"text/javascript\">window.addEventListener(\"resize\", function(){if (document.getElementById(\"f3d33ea7-6f60-4469-ace0-ac0f46348bbb\")) {window._Plotly.Plots.resize(document.getElementById(\"f3d33ea7-6f60-4469-ace0-ac0f46348bbb\"));};})</script>"
      ]
     },
     "metadata": {},
     "output_type": "display_data"
    }
   ],
   "source": [
    "with open('results.json') as json_data:\n",
    "    results = json.load(json_data)\n",
    "    \n",
    "    data = [go.Bar(\n",
    "        x = list(results.keys()),\n",
    "        y = [results[embedding]['3']['logres'][reg]['max'] for embedding in results.keys()],\n",
    "        name = reg\n",
    "    ) for reg in ['l1', 'l2']]\n",
    "    \n",
    "    layout = go.Layout(\n",
    "        barmode = 'group',\n",
    "        title = 'Test set accuracies on logistic regression with different regularization types',\n",
    "        yaxis=dict(\n",
    "            range=[0.45, 0.55]\n",
    "        )\n",
    "    )\n",
    "\n",
    "    fig = go.Figure(data = data, layout = layout)\n",
    "    iplot(fig)"
   ]
  },
  {
   "cell_type": "markdown",
   "metadata": {},
   "source": [
    "<hr>\n",
    "\n",
    "## Comparing pooling performance"
   ]
  },
  {
   "cell_type": "code",
   "execution_count": 34,
   "metadata": {},
   "outputs": [
    {
     "data": {
      "application/vnd.plotly.v1+json": {
       "config": {
        "linkText": "Export to plot.ly",
        "plotlyServerURL": "https://plot.ly",
        "showLink": false
       },
       "data": [
        {
         "name": "max",
         "type": "bar",
         "uid": "634fea13-d568-40ed-ae76-5a5085cd5442",
         "x": [
          "elmo",
          "gpt",
          "flair",
          "bert",
          "transformerxl"
         ],
         "y": [
          0.525691699604743,
          0.4893280632411067,
          0.525691699604743,
          0.5296442687747036,
          0.49881422924901186
         ]
        },
        {
         "name": "min",
         "type": "bar",
         "uid": "2141fe50-8c83-418b-b2ab-f47815f58379",
         "x": [
          "elmo",
          "gpt",
          "flair",
          "bert",
          "transformerxl"
         ],
         "y": [
          0.5241106719367589,
          0.5035573122529644,
          0.5130434782608696,
          0,
          0.48379446640316204
         ]
        },
        {
         "name": "average",
         "type": "bar",
         "uid": "2ad4fa45-eff1-4411-b94f-7a36ac96eb6e",
         "x": [
          "elmo",
          "gpt",
          "flair",
          "bert",
          "transformerxl"
         ],
         "y": [
          0.51699604743083,
          0.5011857707509881,
          0.5272727272727272,
          0.5106719367588933,
          0.4893280632411067
         ]
        }
       ],
       "layout": {
        "barmode": "group",
        "title": {
         "text": "Test set accuracies on logistic regression with different pooling techniques"
        },
        "yaxis": {
         "range": [
          0.45,
          0.55
         ]
        }
       }
      },
      "text/html": [
       "<div id=\"be34e490-5d14-49bc-a650-f5002428958f\" style=\"height: 525px; width: 100%;\" class=\"plotly-graph-div\"></div><script type=\"text/javascript\">require([\"plotly\"], function(Plotly) { window.PLOTLYENV=window.PLOTLYENV || {};window.PLOTLYENV.BASE_URL=\"https://plot.ly\";\n",
       "if (document.getElementById(\"be34e490-5d14-49bc-a650-f5002428958f\")) {\n",
       "    Plotly.newPlot(\"be34e490-5d14-49bc-a650-f5002428958f\", [{\"name\": \"max\", \"x\": [\"elmo\", \"gpt\", \"flair\", \"bert\", \"transformerxl\"], \"y\": [0.525691699604743, 0.4893280632411067, 0.525691699604743, 0.5296442687747036, 0.49881422924901186], \"type\": \"bar\", \"uid\": \"634fea13-d568-40ed-ae76-5a5085cd5442\"}, {\"name\": \"min\", \"x\": [\"elmo\", \"gpt\", \"flair\", \"bert\", \"transformerxl\"], \"y\": [0.5241106719367589, 0.5035573122529644, 0.5130434782608696, 0, 0.48379446640316204], \"type\": \"bar\", \"uid\": \"2141fe50-8c83-418b-b2ab-f47815f58379\"}, {\"name\": \"average\", \"x\": [\"elmo\", \"gpt\", \"flair\", \"bert\", \"transformerxl\"], \"y\": [0.51699604743083, 0.5011857707509881, 0.5272727272727272, 0.5106719367588933, 0.4893280632411067], \"type\": \"bar\", \"uid\": \"2ad4fa45-eff1-4411-b94f-7a36ac96eb6e\"}], {\"barmode\": \"group\", \"title\": {\"text\": \"Test set accuracies on logistic regression with different pooling techniques\"}, \"yaxis\": {\"range\": [0.45, 0.55]}}, {\"showLink\": false, \"linkText\": \"Export to plot.ly\", \"plotlyServerURL\": \"https://plot.ly\"}); \n",
       "}\n",
       "});</script><script type=\"text/javascript\">window.addEventListener(\"resize\", function(){if (document.getElementById(\"be34e490-5d14-49bc-a650-f5002428958f\")) {window._Plotly.Plots.resize(document.getElementById(\"be34e490-5d14-49bc-a650-f5002428958f\"));};})</script>"
      ],
      "text/vnd.plotly.v1+html": [
       "<div id=\"be34e490-5d14-49bc-a650-f5002428958f\" style=\"height: 525px; width: 100%;\" class=\"plotly-graph-div\"></div><script type=\"text/javascript\">require([\"plotly\"], function(Plotly) { window.PLOTLYENV=window.PLOTLYENV || {};window.PLOTLYENV.BASE_URL=\"https://plot.ly\";\n",
       "if (document.getElementById(\"be34e490-5d14-49bc-a650-f5002428958f\")) {\n",
       "    Plotly.newPlot(\"be34e490-5d14-49bc-a650-f5002428958f\", [{\"name\": \"max\", \"x\": [\"elmo\", \"gpt\", \"flair\", \"bert\", \"transformerxl\"], \"y\": [0.525691699604743, 0.4893280632411067, 0.525691699604743, 0.5296442687747036, 0.49881422924901186], \"type\": \"bar\", \"uid\": \"634fea13-d568-40ed-ae76-5a5085cd5442\"}, {\"name\": \"min\", \"x\": [\"elmo\", \"gpt\", \"flair\", \"bert\", \"transformerxl\"], \"y\": [0.5241106719367589, 0.5035573122529644, 0.5130434782608696, 0, 0.48379446640316204], \"type\": \"bar\", \"uid\": \"2141fe50-8c83-418b-b2ab-f47815f58379\"}, {\"name\": \"average\", \"x\": [\"elmo\", \"gpt\", \"flair\", \"bert\", \"transformerxl\"], \"y\": [0.51699604743083, 0.5011857707509881, 0.5272727272727272, 0.5106719367588933, 0.4893280632411067], \"type\": \"bar\", \"uid\": \"2ad4fa45-eff1-4411-b94f-7a36ac96eb6e\"}], {\"barmode\": \"group\", \"title\": {\"text\": \"Test set accuracies on logistic regression with different pooling techniques\"}, \"yaxis\": {\"range\": [0.45, 0.55]}}, {\"showLink\": false, \"linkText\": \"Export to plot.ly\", \"plotlyServerURL\": \"https://plot.ly\"}); \n",
       "}\n",
       "});</script><script type=\"text/javascript\">window.addEventListener(\"resize\", function(){if (document.getElementById(\"be34e490-5d14-49bc-a650-f5002428958f\")) {window._Plotly.Plots.resize(document.getElementById(\"be34e490-5d14-49bc-a650-f5002428958f\"));};})</script>"
      ]
     },
     "metadata": {},
     "output_type": "display_data"
    }
   ],
   "source": [
    "with open('results.json') as json_data:\n",
    "    results = json.load(json_data)\n",
    "    \n",
    "    data = [go.Bar(\n",
    "        x = list(results[embedding]['3']['logres']['l2'].keys()),\n",
    "        y = list(results[embedding]['3']['logres']['l2'].values()),\n",
    "        name = embedding\n",
    "    ) for embedding in results.keys()]\n",
    "    \n",
    "    data = [go.Bar(\n",
    "        x = list(results.keys()),\n",
    "        y = [results[embedding]['3']['logres']['l2'][pooling] for embedding in results.keys()],\n",
    "        name = pooling\n",
    "    ) for pooling in results['gpt']['3']['logres']['l2'].keys()]\n",
    "    \n",
    "    layout = go.Layout(\n",
    "        barmode = 'group',\n",
    "        title = 'Test set accuracies on logistic regression with different pooling techniques',\n",
    "        yaxis=dict(\n",
    "            range=[0.45, 0.55]\n",
    "        )\n",
    "    )\n",
    "\n",
    "    fig = go.Figure(data = data, layout = layout)\n",
    "    iplot(fig)"
   ]
  },
  {
   "cell_type": "markdown",
   "metadata": {},
   "source": [
    "<hr>\n",
    "\n",
    "### References\n",
    "\n",
    "```\n",
    "@inproceedings{boureau2010theoretical,\n",
    "  title={A theoretical analysis of feature pooling in visual recognition},\n",
    "  author={Boureau, Y-Lan and Ponce, Jean and LeCun, Yann},\n",
    "  booktitle={Proceedings of the 27th international conference on machine learning (ICML-10)},\n",
    "  pages={111--118},\n",
    "  year={2010}\n",
    "}\n",
    "```"
   ]
  }
 ],
 "metadata": {
  "kernelspec": {
   "display_name": "Python 3",
   "language": "python",
   "name": "python3"
  },
  "language_info": {
   "codemirror_mode": {
    "name": "ipython",
    "version": 3
   },
   "file_extension": ".py",
   "mimetype": "text/x-python",
   "name": "python",
   "nbconvert_exporter": "python",
   "pygments_lexer": "ipython3",
   "version": "3.6.5"
  }
 },
 "nbformat": 4,
 "nbformat_minor": 2
}
