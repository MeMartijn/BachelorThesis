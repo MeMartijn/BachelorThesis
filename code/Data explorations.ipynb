{
 "cells": [
  {
   "cell_type": "markdown",
   "metadata": {},
   "source": [
    "# Data explorations\n",
    "In this notebook, a first analysis of the data from [Wang (2017)](https://arxiv.org/abs/1705.00648) will be performed. "
   ]
  },
  {
   "cell_type": "code",
   "execution_count": 1,
   "metadata": {
    "collapsed": false
   },
   "outputs": [
    {
     "data": {
      "text/html": [
       "        <script type=\"text/javascript\">\n",
       "        window.PlotlyConfig = {MathJaxConfig: 'local'};\n",
       "        if (window.MathJax) {MathJax.Hub.Config({SVG: {font: \"STIX-Web\"}});}\n",
       "        if (typeof require !== 'undefined') {\n",
       "        require.undef(\"plotly\");\n",
       "        requirejs.config({\n",
       "            paths: {\n",
       "                'plotly': ['https://cdn.plot.ly/plotly-latest.min']\n",
       "            }\n",
       "        });\n",
       "        require(['plotly'], function(Plotly) {\n",
       "            window._Plotly = Plotly;\n",
       "        });\n",
       "        }\n",
       "        </script>\n",
       "        "
      ]
     },
     "metadata": {},
     "output_type": "display_data"
    }
   ],
   "source": [
    "import pandas as pd\n",
    "import numpy as np\n",
    "from collections import Counter\n",
    "from wordcloud import WordCloud\n",
    "import matplotlib.pyplot as plt\n",
    "import plotly.graph_objs as go\n",
    "from plotly.offline import download_plotlyjs, init_notebook_mode, plot, iplot\n",
    "from nltk.tokenize import sent_tokenize, word_tokenize\n",
    "from plotly import tools\n",
    "import re\n",
    "\n",
    "init_notebook_mode(connected=True)"
   ]
  },
  {
   "cell_type": "markdown",
   "metadata": {},
   "source": [
    "#### Data loading class for interaction with the data"
   ]
  },
  {
   "cell_type": "code",
   "execution_count": 3,
   "metadata": {
    "collapsed": false
   },
   "outputs": [
    {
     "data": {
      "text/html": [
       "<div>\n",
       "<style scoped>\n",
       "    .dataframe tbody tr th:only-of-type {\n",
       "        vertical-align: middle;\n",
       "    }\n",
       "\n",
       "    .dataframe tbody tr th {\n",
       "        vertical-align: top;\n",
       "    }\n",
       "\n",
       "    .dataframe thead th {\n",
       "        text-align: right;\n",
       "    }\n",
       "</style>\n",
       "<table border=\"1\" class=\"dataframe\">\n",
       "  <thead>\n",
       "    <tr style=\"text-align: right;\">\n",
       "      <th></th>\n",
       "      <th>label</th>\n",
       "      <th>statement</th>\n",
       "      <th>subjects</th>\n",
       "      <th>speaker</th>\n",
       "      <th>speaker_job</th>\n",
       "      <th>state</th>\n",
       "      <th>party</th>\n",
       "      <th>barely_true_count</th>\n",
       "      <th>false_count</th>\n",
       "      <th>half_true_count</th>\n",
       "      <th>mostly_true_count</th>\n",
       "      <th>pants_on_fire_count</th>\n",
       "      <th>context</th>\n",
       "    </tr>\n",
       "    <tr>\n",
       "      <th>id</th>\n",
       "      <th></th>\n",
       "      <th></th>\n",
       "      <th></th>\n",
       "      <th></th>\n",
       "      <th></th>\n",
       "      <th></th>\n",
       "      <th></th>\n",
       "      <th></th>\n",
       "      <th></th>\n",
       "      <th></th>\n",
       "      <th></th>\n",
       "      <th></th>\n",
       "      <th></th>\n",
       "    </tr>\n",
       "  </thead>\n",
       "  <tbody>\n",
       "    <tr>\n",
       "      <th>2635.json</th>\n",
       "      <td>false</td>\n",
       "      <td>Says the Annies List political group supports ...</td>\n",
       "      <td>abortion</td>\n",
       "      <td>dwayne-bohac</td>\n",
       "      <td>State representative</td>\n",
       "      <td>Texas</td>\n",
       "      <td>republican</td>\n",
       "      <td>0.0</td>\n",
       "      <td>1.0</td>\n",
       "      <td>0.0</td>\n",
       "      <td>0.0</td>\n",
       "      <td>0.0</td>\n",
       "      <td>a mailer</td>\n",
       "    </tr>\n",
       "    <tr>\n",
       "      <th>10540.json</th>\n",
       "      <td>half-true</td>\n",
       "      <td>When did the decline of coal start? It started...</td>\n",
       "      <td>energy,history,job-accomplishments</td>\n",
       "      <td>scott-surovell</td>\n",
       "      <td>State delegate</td>\n",
       "      <td>Virginia</td>\n",
       "      <td>democrat</td>\n",
       "      <td>0.0</td>\n",
       "      <td>0.0</td>\n",
       "      <td>1.0</td>\n",
       "      <td>1.0</td>\n",
       "      <td>0.0</td>\n",
       "      <td>a floor speech.</td>\n",
       "    </tr>\n",
       "    <tr>\n",
       "      <th>324.json</th>\n",
       "      <td>mostly-true</td>\n",
       "      <td>Hillary Clinton agrees with John McCain \"by vo...</td>\n",
       "      <td>foreign-policy</td>\n",
       "      <td>barack-obama</td>\n",
       "      <td>President</td>\n",
       "      <td>Illinois</td>\n",
       "      <td>democrat</td>\n",
       "      <td>70.0</td>\n",
       "      <td>71.0</td>\n",
       "      <td>160.0</td>\n",
       "      <td>163.0</td>\n",
       "      <td>9.0</td>\n",
       "      <td>Denver</td>\n",
       "    </tr>\n",
       "  </tbody>\n",
       "</table>\n",
       "</div>"
      ],
      "text/plain": [
       "                  label                                          statement  \\\n",
       "id                                                                           \n",
       "2635.json         false  Says the Annies List political group supports ...   \n",
       "10540.json    half-true  When did the decline of coal start? It started...   \n",
       "324.json    mostly-true  Hillary Clinton agrees with John McCain \"by vo...   \n",
       "\n",
       "                                      subjects         speaker  \\\n",
       "id                                                               \n",
       "2635.json                             abortion    dwayne-bohac   \n",
       "10540.json  energy,history,job-accomplishments  scott-surovell   \n",
       "324.json                        foreign-policy    barack-obama   \n",
       "\n",
       "                     speaker_job     state       party  barely_true_count  \\\n",
       "id                                                                          \n",
       "2635.json   State representative     Texas  republican                0.0   \n",
       "10540.json        State delegate  Virginia    democrat                0.0   \n",
       "324.json               President  Illinois    democrat               70.0   \n",
       "\n",
       "            false_count  half_true_count  mostly_true_count  \\\n",
       "id                                                            \n",
       "2635.json           1.0              0.0                0.0   \n",
       "10540.json          0.0              1.0                1.0   \n",
       "324.json           71.0            160.0              163.0   \n",
       "\n",
       "            pants_on_fire_count          context  \n",
       "id                                                \n",
       "2635.json                   0.0         a mailer  \n",
       "10540.json                  0.0  a floor speech.  \n",
       "324.json                    9.0           Denver  "
      ]
     },
     "execution_count": 3,
     "metadata": {},
     "output_type": "execute_result"
    }
   ],
   "source": [
    "class DataLoader:\n",
    "    def __init__(self): \n",
    "        self.df = {\n",
    "                    dataset: pd.read_csv('data/liar_dataset/' + dataset + '.tsv', sep='\\t', header=None, index_col=0, names=['id', 'label', 'statement', 'subjects', 'speaker', 'speaker_job', 'state', 'party', 'barely_true_count', 'false_count', 'half_true_count', 'mostly_true_count', 'pants_on_fire_count', 'context'])\n",
    "                    for dataset in ['train', 'test', 'valid']\n",
    "                  }\n",
    "        \n",
    "        self.df['validation'] = self.df['valid']\n",
    "        self.df.pop('valid', None)\n",
    "data = DataLoader()\n",
    "\n",
    "data.df['train'].head(3)"
   ]
  },
  {
   "cell_type": "markdown",
   "metadata": {},
   "source": [
    "<hr>\n",
    "## Testing descriptive statistics\n",
    "To ensure the dataset has not been adjusted, we need to combine the three datasets and compare some counts with the listings in the research article. The following dataset statistics should be present:\n",
    "\n",
    "| Dataset statistics             |        || Top-3 Speaker Affiliations |       |\n",
    "|--------------------------------|--------||----------------------------|-------|\n",
    "| Training set size              | 10,269 || Democrats                  | 4,150 |\n",
    "| Validation set size            | 1,284  || Republicans                | 5,687 |\n",
    "| Testing set size               | 1,283  || None (e.g., FB posts)      | 2,185 |\n",
    "| Avg. statement length (tokens) | 17.9   |\n",
    "\n",
    "\n",
    "\n",
    "\n",
    "\n"
   ]
  },
  {
   "cell_type": "code",
   "execution_count": 4,
   "metadata": {
    "collapsed": false
   },
   "outputs": [
    {
     "name": "stdout",
     "output_type": "stream",
     "text": [
      "{'Training set size': 10240, 'Validation set size': 1284, 'Testing set size': 1267, 'Avg. statement length (tokens)': 17.991947463059965}\n",
      "{'Democrats': 4137, 'Republicans': 5665, 'None': 2181}\n"
     ]
    }
   ],
   "source": [
    "print({\n",
    "    'Training set size': len(data.df['train'].label),\n",
    "    'Validation set size': len(data.df['validation'].label),\n",
    "    'Testing set size': len(data.df['test'].label),\n",
    "    'Avg. statement length (tokens)': pd.concat([data.df['train'].statement, data.df['test'].statement, data.df['validation'].statement]).apply(lambda x: len(x.split(' '))).mean(),\n",
    "})\n",
    "\n",
    "affil_col = pd.concat([data.df['train'].party, data.df['test'].party, data.df['validation'].party])\n",
    "print({\n",
    "    'Democrats': len(list(filter(lambda x: x == 'democrat', affil_col.values))),\n",
    "    'Republicans': len(list(filter(lambda x: x == 'republican', affil_col.values))),\n",
    "    'None': len(list(filter(lambda x: x == 'none', affil_col.values))),\n",
    "})"
   ]
  },
  {
   "cell_type": "markdown",
   "metadata": {},
   "source": [
    "Although there are minor differences, we can conclude that the dataset from the research article has not been adjusted heavily since release.\n",
    "<hr>\n",
    "## Assessing data quality\n",
    "The next step is whether we need to clean any of the data. As we are only interested in statements, we will check on anomalities in sentence length for this next step."
   ]
  },
  {
   "cell_type": "code",
   "execution_count": 6,
   "metadata": {
    "collapsed": false
   },
   "outputs": [
    {
     "data": {
      "application/vnd.plotly.v1+json": {
       "config": {
        "linkText": "Export to plot.ly",
        "plotlyServerURL": "https://plot.ly",
        "showLink": false
       },
       "data": [
        {
         "labels": [
          1,
          2,
          3,
          4,
          5,
          6,
          19,
          11,
          8,
          9,
          7,
          14,
          10
         ],
         "type": "pie",
         "uid": "8ec2f588-0209-420c-bba0-55f1b336b2fd",
         "values": [
          11219,
          1237,
          199,
          98,
          22,
          6,
          1,
          2,
          2,
          1,
          2,
          1,
          1
         ]
        }
       ],
       "layout": {}
      },
      "text/html": [
       "<div>\n",
       "        \n",
       "        \n",
       "            <div id=\"b85057d2-dc9e-4a90-867d-bbe04c6f9126\" class=\"plotly-graph-div\" style=\"height:525px; width:100%;\"></div>\n",
       "            <script type=\"text/javascript\">\n",
       "                require([\"plotly\"], function(Plotly) {\n",
       "                    window.PLOTLYENV=window.PLOTLYENV || {};\n",
       "                    window.PLOTLYENV.BASE_URL='https://plot.ly';\n",
       "                    \n",
       "                if (document.getElementById(\"b85057d2-dc9e-4a90-867d-bbe04c6f9126\")) {\n",
       "                    Plotly.newPlot(\n",
       "                        'b85057d2-dc9e-4a90-867d-bbe04c6f9126',\n",
       "                        [{\"labels\": [1, 2, 3, 4, 5, 6, 19, 11, 8, 9, 7, 14, 10], \"type\": \"pie\", \"uid\": \"8ec2f588-0209-420c-bba0-55f1b336b2fd\", \"values\": [11219, 1237, 199, 98, 22, 6, 1, 2, 2, 1, 2, 1, 1]}],\n",
       "                        {},\n",
       "                        {\"showLink\": false, \"linkText\": \"Export to plot.ly\", \"plotlyServerURL\": \"https://plot.ly\", \"responsive\": true}\n",
       "                    ).then(function(){\n",
       "                            \n",
       "var gd = document.getElementById('b85057d2-dc9e-4a90-867d-bbe04c6f9126');\n",
       "var x = new MutationObserver(function (mutations, observer) {{\n",
       "        var display = window.getComputedStyle(gd).display;\n",
       "        if (!display || display === 'none') {{\n",
       "            console.log([gd, 'removed!']);\n",
       "            Plotly.purge(gd);\n",
       "            observer.disconnect();\n",
       "        }}\n",
       "}});\n",
       "\n",
       "// Listen for the removal of the full notebook cells\n",
       "var notebookContainer = gd.closest('#notebook-container');\n",
       "if (notebookContainer) {{\n",
       "    x.observe(notebookContainer, {childList: true});\n",
       "}}\n",
       "\n",
       "// Listen for the clearing of the current output cell\n",
       "var outputEl = gd.closest('.output');\n",
       "if (outputEl) {{\n",
       "    x.observe(outputEl, {childList: true});\n",
       "}}\n",
       "\n",
       "                        })\n",
       "                };\n",
       "                });\n",
       "            </script>\n",
       "        </div>"
      ]
     },
     "metadata": {},
     "output_type": "display_data"
    }
   ],
   "source": [
    "total_statements = pd.concat([data.df['train'].statement, data.df['test'].statement, data.df['validation'].statement])\n",
    "sentence_counter = total_statements.apply(lambda x: len(sent_tokenize(x)))\n",
    "total_statements = pd.concat([total_statements, sentence_counter], axis=1)\n",
    "total_statements.columns = ['statement', 'sentence_length']\n",
    "\n",
    "sorted_statements = Counter(total_statements.sentence_length.values)\n",
    "\n",
    "chart = [go.Pie(\n",
    "            labels = list(sorted_statements.keys()),\n",
    "            values = list(sorted_statements.values()),\n",
    "        )]\n",
    "\n",
    "iplot(chart)"
   ]
  },
  {
   "cell_type": "code",
   "execution_count": 7,
   "metadata": {
    "collapsed": false
   },
   "outputs": [
    {
     "data": {
      "text/plain": [
       "Counter({1: 11219,\n",
       "         2: 1237,\n",
       "         3: 199,\n",
       "         4: 98,\n",
       "         5: 22,\n",
       "         6: 6,\n",
       "         19: 1,\n",
       "         11: 2,\n",
       "         8: 2,\n",
       "         9: 1,\n",
       "         7: 2,\n",
       "         14: 1,\n",
       "         10: 1})"
      ]
     },
     "execution_count": 7,
     "metadata": {},
     "output_type": "execute_result"
    }
   ],
   "source": [
    "sorted_statements"
   ]
  },
  {
   "cell_type": "markdown",
   "metadata": {},
   "source": [
    "The biggest share of statements are just 1 sentence long. However, some are longer. Let's find out why."
   ]
  },
  {
   "cell_type": "code",
   "execution_count": 8,
   "metadata": {
    "collapsed": false
   },
   "outputs": [
    {
     "data": {
      "text/plain": [
       "array(['Hospitals, doctors, MRIs, surgeries and so forth are more extensively used and far more expensive in this country than they are in many other countries.\\'\\'\\thealth-care\\tmitt-romney\\tFormer governor\\tMassachusetts\\trepublican\\t34\\t32\\t58\\t33\\t19\\ta Fox News Sunday interview\\n9874.json\\tbarely-true\\tObamacare cuts seniors Medicare.\\thealth-care,medicare\\ted-gillespie\\tRepublican strategist\\tWashington, D.C.\\trepublican\\t2\\t3\\t2\\t2\\t1\\ta campaign email.\\n3072.json\\tmostly-true\\tThe refusal of many federal employees to fly coach costs taxpayers $146 million annually.\\tgovernment-efficiency,transparency\\tnewsmax\\tMagazine and website\\tFlorida\\tnone\\t0\\t0\\t0\\t1\\t0\\tan e-mail solicitation\\n2436.json\\tmostly-true\\tFlorida spends more than $300 million a year just on children repeating pre-K through 3rd grade.\\teducation\\talex-sink\\t\\tFlorida\\tdemocrat\\t1\\t2\\t2\\t4\\t0\\tfigures cites on campaign website\\n9721.json\\ttrue\\tMilwaukee County Sheriff David A. Clarke Jr. advised citizens to point that barrel center mass and pull the trigger because 911 is not our best option.\\tcrime,criminal-justice,guns,legal-issues\\tgreater-wisconsin-political-fund\\t\\tWisconsin\\tnone\\t3\\t3\\t3\\t1\\t1\\ta campaign TV ad\\n3627.json\\tfalse\\tAlmost 37 percent of the total income from Planned Parenthood is from abortions.\\tabortion\\tronald-renuart\\tState Representative\\tFlorida\\trepublican\\t0\\t1\\t0\\t0\\t0\\tcomments during a committee hearing\\n11900.json\\thalf-true\\tThe United States has the highest rate of childhood poverty of almost any major country on Earth.\\tchildren,poverty\\tbernie-s\\tU.S. Senator\\tVermont\\tindependent\\t18\\t12\\t22\\t41\\t0\\tcomments during the PBS Democratic debate\\n4611.json\\ttrue\\tUnder Governor Almond the RI DMV had a program that allowed undocumented [people to] use their Personal Tax Identification Number . . . to apply [for] and receive a RI drivers license.\\tcivil-rights,homeland-security,immigration,public-safety,transportation,workers\\tdavid-quiroa\\tprresident, Guatemalan-American Alliance of Rhode Island\\tRhode Island\\tnewsmaker\\t0\\t0\\t0\\t0\\t0\\ta news release\\n3168.json\\tpants-fire\\tIllegal aliens cost the state of Rhode Island $400 million a year.\\tcensus,crime,education,health-care,immigration,state-budget,taxes\\tterry-gorman\\tPresident, Rhode Islanders for Immigration Law Enforcement\\tRhode Island\\tnewsmaker\\t1\\t0\\t0\\t0\\t1\\ta radio interview\\n6832.json\\tpants-fire\\tSays Eric Cantor voted to assure Congress would be paid if the government shut down and against guaranteeing troops would be paid.\\tcongressional-rules,federal-budget,military\\twayne-powell\\tlawyer\\tVirginia\\tdemocrat\\t1\\t1\\t0\\t0\\t1\\ta debate.\\n5893.json\\tmostly-true\\tIf Congress froze the current spending level and then cut it by 2 percent annually, we could balance the budget in five years.\\tdeficit,federal-budget\\tjamie-radtke\\t\\tVirginia\\trepublican\\t1\\t1\\t1\\t2\\t0\\ta statement\\n3304.json\\ttrue\\tEvery (Wisconsin) legislator that votes for this bill will have to give up the same amount of pay as other state employees.\\tlabor,state-budget\\tjeff-fitzgerald\\tIncoming speaker of state Assembly\\tWisconsin\\trepublican\\t2\\t0\\t1\\t2\\t2\\tan interview on the Fox News Channel\\n1638.json\\thalf-true\\tMarco Rubio controlled funds that out of the $600,000 that were raised, only $4,000 went to candidates to try to improve their chances to be elected to office.\"'],\n",
       "      dtype=object)"
      ]
     },
     "execution_count": 8,
     "metadata": {},
     "output_type": "execute_result"
    }
   ],
   "source": [
    "total_statements[total_statements['sentence_length'] == total_statements['sentence_length'].max()].statement.values"
   ]
  },
  {
   "cell_type": "code",
   "execution_count": 9,
   "metadata": {
    "collapsed": false
   },
   "outputs": [
    {
     "data": {
      "text/plain": [
       "['mostly-true',\n",
       " 'mostly-true',\n",
       " 'mostly-true',\n",
       " 'half-true',\n",
       " 'mostly-true',\n",
       " 'true',\n",
       " 'mostly-true',\n",
       " 'false',\n",
       " 'barely-true',\n",
       " 'barely-true',\n",
       " 'half-true']"
      ]
     },
     "execution_count": 9,
     "metadata": {},
     "output_type": "execute_result"
    }
   ],
   "source": [
    "re.findall(r'\\.json%%(mostly-true|true|half-true|false|barely-true|pants-fire)', re.sub(r\"\\t\", \"%%\", total_statements[total_statements['sentence_length'] == 14].statement.values[0]))"
   ]
  },
  {
   "cell_type": "code",
   "execution_count": 10,
   "metadata": {
    "collapsed": false
   },
   "outputs": [
    {
     "data": {
      "text/plain": [
       "'As a state rep, I was considered the fourth-most conservative in the Legislature.\\tstates\\trick-green\\t\\t\\trepublican\\t0\\t1\\t1\\t0\\t0\\ta speech\\n2552.json\\tmostly-true\\tRand Paul wants us to pay $2,000 just to get Medicare.\\thealth-care,medicare,message-machine\\tjack-conway\\tKentucky Attorney General\\tKentucky\\tdemocrat\\t0\\t1\\t0\\t2\\t0\\ta campaign commercial\\n9353.json\\tmostly-true\\tSays Hillary Clinton opposed an individual mandate and favored an employer mandate back in 1993.\\thealth-care,public-health\\tbobby-jindal\\tGovernor of Louisiana\\tLouisiana\\trepublican\\t0\\t1\\t4\\t4\\t0\\tan op-ed for Politico Magazine\\n9577.json\\tmostly-true\\tThere are more than 46 million Americans living in poverty today -- the largest number in 54 years.\\tmedicaid,poverty\\tkirk-cox\\tHouse majority leader\\tVirginia\\trepublican\\t0\\t0\\t0\\t1\\t0\\ta speech.\\n4318.json\\thalf-true\\tSince I introduced my budget -- first budget -- in March of 2010, weve created 50,000 new private-sector jobs for the people of this state.\\tjobs,state-budget\\tchris-christie\\tGovernor of New Jersey\\tNew Jersey\\trepublican\\t10\\t17\\t27\\t19\\t8\\ta news conference in Belmar \\n9864.json\\tmostly-true\\tScott Walker cut school funding more per student than any governor in America.\\tchildren,education,message-machine-2014,state-budget,states,taxes\\tgreater-wisconsin-political-fund\\t\\tWisconsin\\tnone\\t3\\t3\\t3\\t1\\t1\\ta TV ad\\n8243.json\\ttrue\\tSays he would be first CPA to serve as Texas comptroller.\\tstate-finances\\traul-torres\\tAccountant, politician\\tTexas\\trepublican\\t0\\t0\\t0\\t0\\t0\\ta campaign video\\n13500.json\\tmostly-true\\tOn Donald Trumps plan to cut federal funding to sanctuary cities, because of a decision by the Supreme Court, no presidents in a position to cut off funding across the board. It has to be very specific to the matter at hand.\\tcity-budget,county-budget,federal-budget,homeland-security,immigration,state-budget\\tbill-de-blasio\\tNew York City Mayor\\tNew York\\tdemocrat\\t1\\t0\\t0\\t1\\t0\\ta WNYC interview\\n9854.json\\tfalse\\tThomas Jefferson said, That government is best which governs the least, because its people discipline themselves.\\telections\\tjody-hice\\t\\t\\trepublican\\t0\\t1\\t0\\t0\\t0\\ta Facebook post\\n7737.json\\tbarely-true\\tProposed gun control legislation will outlaw practically every firearm, make you pay $100 per firearm, put you into a police database and make it nearly impossible to get a permit to carry a concealed weapon.\\tcrime,criminal-justice,government-regulation,guns,market-regulation\\ted-doyle\\tadministrator, Rhode Island chapter, Gun Rights Across America.\\tRhode Island\\tactivist\\t1\\t0\\t0\\t0\\t0\\ta news release and Facebook post\\n12293.json\\tbarely-true\\tSays Donald Trump thinks a grown man pretending to be a woman (should) be allowed to use the womens restroom.\\tcandidates-biography,corrections-and-updates,gays-and-lesbians,campaign-advertising\\tted-cruz\\tSenator\\tTexas\\trepublican\\t36\\t33\\t15\\t19\\t8\\tan attack ad\\n457.json\\thalf-true\\tMcCain has voted repeatedly at least six times against funding for global HIV/AIDS, malaria and TB fund, once as one of only 14 senators.\"'"
      ]
     },
     "execution_count": 10,
     "metadata": {},
     "output_type": "execute_result"
    }
   ],
   "source": [
    "total_statements[total_statements['sentence_length'] == 14].statement.values[0]"
   ]
  },
  {
   "cell_type": "markdown",
   "metadata": {},
   "source": [
    "As can be seen, there was a fault in the scraping of the data, resulting in multiple statements to be concatenated into one row. By running the following regular expression, these faulty lines should be able to be detected:\n",
    "```\n",
    "/\\.json\\\\t(mostly-true|true|half-true|false|barely-true|pants-fire)/g\n",
    "```\n",
    "<hr>\n",
    "## Cleaning data\n",
    "Applying the abovementioned regex filter on the dataset."
   ]
  },
  {
   "cell_type": "code",
   "execution_count": 11,
   "metadata": {
    "collapsed": false
   },
   "outputs": [],
   "source": [
    "for dataset in data.df.keys():\n",
    "    data.df[dataset]['mistake_filter'] = data.df[dataset].statement.apply(lambda x: len(re.findall(r'\\.json%%(mostly-true|true|half-true|false|barely-true|pants-fire)', re.sub(r\"\\t\", \"%%\", x))))\n",
    "    data.df[dataset] = data.df[dataset][data.df[dataset]['mistake_filter'] == 0]\n",
    "    data.df[dataset].drop(columns = 'mistake_filter', inplace = True)"
   ]
  },
  {
   "cell_type": "code",
   "execution_count": 12,
   "metadata": {
    "collapsed": false
   },
   "outputs": [
    {
     "data": {
      "text/plain": [
       "Counter({1: 11219, 2: 1236, 3: 198, 4: 98, 5: 22, 6: 6, 8: 2, 7: 2, 11: 1})"
      ]
     },
     "execution_count": 12,
     "metadata": {},
     "output_type": "execute_result"
    }
   ],
   "source": [
    "total_statements = pd.concat([data.df['train'].statement, data.df['test'].statement, data.df['validation'].statement])\n",
    "sentence_counter = total_statements.apply(lambda x: len(sent_tokenize(x)))\n",
    "total_statements = pd.concat([total_statements, sentence_counter], axis=1)\n",
    "total_statements.columns = ['statement', 'sentence_length']\n",
    "\n",
    "sorted_statements = Counter(total_statements.sentence_length.values)\n",
    "sorted_statements"
   ]
  },
  {
   "cell_type": "code",
   "execution_count": 13,
   "metadata": {
    "collapsed": false
   },
   "outputs": [
    {
     "name": "stdout",
     "output_type": "stream",
     "text": [
      "{'Training set size': 10235, 'Validation set size': 1284, 'Testing set size': 1265, 'Avg. statement length (tokens)': 17.911530037546935}\n"
     ]
    }
   ],
   "source": [
    "print({\n",
    "    'Training set size': len(data.df['train'].label),\n",
    "    'Validation set size': len(data.df['validation'].label),\n",
    "    'Testing set size': len(data.df['test'].label),\n",
    "    'Avg. statement length (tokens)': pd.concat([data.df['train'].statement, data.df['test'].statement, data.df['validation'].statement]).apply(lambda x: len(x.split(' '))).mean(),\n",
    "})"
   ]
  },
  {
   "cell_type": "code",
   "execution_count": 20,
   "metadata": {
    "collapsed": false
   },
   "outputs": [
    {
     "data": {
      "text/plain": [
       "52"
      ]
     },
     "execution_count": 20,
     "metadata": {},
     "output_type": "execute_result"
    }
   ],
   "source": [
    "12836 - 12784"
   ]
  },
  {
   "cell_type": "markdown",
   "metadata": {},
   "source": [
    "<hr>\n",
    "## Analysis of data\n",
    "To get a better idea of the context of the statements, it might be interesting to look at some statistics surrounding the subjects."
   ]
  },
  {
   "cell_type": "code",
   "execution_count": 22,
   "metadata": {
    "collapsed": true
   },
   "outputs": [],
   "source": [
    "subjects = []\n",
    "\n",
    "for subject in pd.concat([data.df['train'].subjects, data.df['test'].subjects, data.df['validation'].subjects]).values:\n",
    "    try:\n",
    "        subjects.append(subject.split(','))\n",
    "    except:\n",
    "        pass\n",
    "\n",
    "subjects = np.concatenate(subjects)"
   ]
  },
  {
   "cell_type": "code",
   "execution_count": 23,
   "metadata": {
    "collapsed": false
   },
   "outputs": [
    {
     "data": {
      "image/png": "[encoded data removed]",
      "text/plain": [
       "<Figure size 1800x1440 with 1 Axes>"
      ]
     },
     "metadata": {
      "needs_background": "light"
     },
     "output_type": "display_data"
    }
   ],
   "source": [
    "subjects_counter = Counter(subjects)\n",
    "wordcloud = WordCloud(width = 3000, height = 1000, background_color = 'white').generate_from_frequencies(subjects_counter)\n",
    "\n",
    "plt.figure(figsize = (25, 20))\n",
    "plt.imshow(wordcloud)\n",
    "plt.axis('off')\n",
    "plt.show()"
   ]
  },
  {
   "cell_type": "code",
   "execution_count": 24,
   "metadata": {
    "collapsed": false
   },
   "outputs": [
    {
     "data": {
      "application/vnd.plotly.v1+json": {
       "config": {
        "linkText": "Export to plot.ly",
        "plotlyServerURL": "https://plot.ly",
        "showLink": false
       },
       "data": [
        {
         "type": "bar",
         "uid": "e78de585-de8c-49f9-833b-3669a967d7bc",
         "x": [
          "economy",
          "health-care",
          "taxes",
          "federal-budget",
          "education",
          "jobs",
          "state-budget",
          "candidates-biography",
          "elections",
          "immigration",
          "foreign-policy",
          "crime",
          "history",
          "energy",
          "environment",
          "legal-issues",
          "guns",
          "military",
          "job-accomplishments",
          "terrorism",
          "workers",
          "transportation",
          "message-machine-2012",
          "state-finances",
          "abortion",
          "criminal-justice",
          "states",
          "public-health",
          "deficit",
          "pundits",
          "women",
          "message-machine",
          "medicare",
          "voting-record",
          "labor",
          "corrections-and-updates",
          "campaign-finance",
          "children",
          "congress",
          "poverty",
          "stimulus",
          "government-regulation",
          "income",
          "ethics",
          "government-efficiency",
          "climate-change",
          "religion",
          "corporations",
          "public-safety",
          "city-government",
          "social-security",
          "iraq",
          "polls",
          "debt",
          "families",
          "market-regulation",
          "gays-and-lesbians",
          "civil-rights",
          "homeland-security",
          "trade",
          "financial-regulation",
          "abc-news-week",
          "drugs",
          "supreme-court",
          "bipartisanship",
          "medicaid",
          "diversity",
          "housing",
          "retirement",
          "unions",
          "city-budget",
          "sports",
          "small-business",
          "science",
          "campaign-advertising",
          "veterans",
          "transparency",
          "nuclear",
          "agriculture",
          "technology",
          "debates",
          "marijuana",
          "new-hampshire-2012",
          "human-rights",
          "marriage",
          "county-government",
          "welfare",
          "congressional-rules",
          "county-budget",
          "wealth",
          "infrastructure",
          "florida",
          "water",
          "oil-spill",
          "population",
          "afghanistan",
          "pensions",
          "animals",
          "sexuality",
          "china",
          "message-machine-2014",
          "israel",
          "recreation",
          "pop-culture",
          "cap-and-trade",
          "bush-administration",
          "weather",
          "islam",
          "census",
          "gambling",
          "redistricting",
          "bankruptcy",
          "consumer-safety",
          "Alcohol",
          "gas-prices",
          "public-service",
          "patriotism",
          "tourism",
          "food-safety",
          "obama-birth-certificate",
          "privacy",
          "hunger",
          "disability",
          "urban",
          "ebola",
          "baseball",
          "occupy-wall-street",
          "florida-amendments",
          "space",
          "kagan-nomination",
          "natural-disasters",
          "sotomayor-nomination",
          "fake-news",
          "lottery",
          "10-news-tampa-bay",
          "autism",
          "colbert-report",
          "after-the-fact",
          "food",
          "death-penalty",
          "homeless",
          "fires",
          "nightlife",
          "politifacts-top-promises"
         ],
         "y": [
          1432,
          1425,
          1218,
          937,
          926,
          899,
          879,
          805,
          756,
          642,
          603,
          552,
          498,
          479,
          436,
          428,
          404,
          389,
          364,
          362,
          351,
          338,
          323,
          314,
          313,
          311,
          286,
          283,
          267,
          263,
          258,
          255,
          245,
          242,
          242,
          239,
          235,
          234,
          231,
          226,
          223,
          218,
          217,
          206,
          187,
          174,
          174,
          173,
          168,
          164,
          163,
          162,
          157,
          150,
          145,
          144,
          139,
          137,
          131,
          125,
          123,
          119,
          115,
          111,
          110,
          110,
          108,
          104,
          101,
          100,
          96,
          95,
          91,
          91,
          90,
          85,
          85,
          83,
          83,
          82,
          80,
          77,
          76,
          72,
          71,
          71,
          70,
          69,
          68,
          67,
          67,
          66,
          64,
          64,
          61,
          60,
          59,
          59,
          58,
          56,
          55,
          50,
          48,
          47,
          44,
          44,
          44,
          42,
          42,
          41,
          41,
          40,
          40,
          40,
          38,
          36,
          35,
          33,
          32,
          31,
          30,
          28,
          27,
          27,
          24,
          21,
          19,
          18,
          17,
          12,
          12,
          12,
          10,
          6,
          6,
          3,
          3,
          2,
          2,
          2,
          1,
          1,
          1,
          1
         ]
        }
       ],
       "layout": {}
      },
      "text/html": [
       "<div>\n",
       "        \n",
       "        \n",
       "            <div id=\"67e58c92-578a-461f-af14-d154839cf5d6\" class=\"plotly-graph-div\" style=\"height:525px; width:100%;\"></div>\n",
       "            <script type=\"text/javascript\">\n",
       "                require([\"plotly\"], function(Plotly) {\n",
       "                    window.PLOTLYENV=window.PLOTLYENV || {};\n",
       "                    window.PLOTLYENV.BASE_URL='https://plot.ly';\n",
       "                    \n",
       "                if (document.getElementById(\"67e58c92-578a-461f-af14-d154839cf5d6\")) {\n",
       "                    Plotly.newPlot(\n",
       "                        '67e58c92-578a-461f-af14-d154839cf5d6',\n",
       "                        [{\"type\": \"bar\", \"uid\": \"e78de585-de8c-49f9-833b-3669a967d7bc\", \"x\": [\"economy\", \"health-care\", \"taxes\", \"federal-budget\", \"education\", \"jobs\", \"state-budget\", \"candidates-biography\", \"elections\", \"immigration\", \"foreign-policy\", \"crime\", \"history\", \"energy\", \"environment\", \"legal-issues\", \"guns\", \"military\", \"job-accomplishments\", \"terrorism\", \"workers\", \"transportation\", \"message-machine-2012\", \"state-finances\", \"abortion\", \"criminal-justice\", \"states\", \"public-health\", \"deficit\", \"pundits\", \"women\", \"message-machine\", \"medicare\", \"voting-record\", \"labor\", \"corrections-and-updates\", \"campaign-finance\", \"children\", \"congress\", \"poverty\", \"stimulus\", \"government-regulation\", \"income\", \"ethics\", \"government-efficiency\", \"climate-change\", \"religion\", \"corporations\", \"public-safety\", \"city-government\", \"social-security\", \"iraq\", \"polls\", \"debt\", \"families\", \"market-regulation\", \"gays-and-lesbians\", \"civil-rights\", \"homeland-security\", \"trade\", \"financial-regulation\", \"abc-news-week\", \"drugs\", \"supreme-court\", \"bipartisanship\", \"medicaid\", \"diversity\", \"housing\", \"retirement\", \"unions\", \"city-budget\", \"sports\", \"small-business\", \"science\", \"campaign-advertising\", \"veterans\", \"transparency\", \"nuclear\", \"agriculture\", \"technology\", \"debates\", \"marijuana\", \"new-hampshire-2012\", \"human-rights\", \"marriage\", \"county-government\", \"welfare\", \"congressional-rules\", \"county-budget\", \"wealth\", \"infrastructure\", \"florida\", \"water\", \"oil-spill\", \"population\", \"afghanistan\", \"pensions\", \"animals\", \"sexuality\", \"china\", \"message-machine-2014\", \"israel\", \"recreation\", \"pop-culture\", \"cap-and-trade\", \"bush-administration\", \"weather\", \"islam\", \"census\", \"gambling\", \"redistricting\", \"bankruptcy\", \"consumer-safety\", \"Alcohol\", \"gas-prices\", \"public-service\", \"patriotism\", \"tourism\", \"food-safety\", \"obama-birth-certificate\", \"privacy\", \"hunger\", \"disability\", \"urban\", \"ebola\", \"baseball\", \"occupy-wall-street\", \"florida-amendments\", \"space\", \"kagan-nomination\", \"natural-disasters\", \"sotomayor-nomination\", \"fake-news\", \"lottery\", \"10-news-tampa-bay\", \"autism\", \"colbert-report\", \"after-the-fact\", \"food\", \"death-penalty\", \"homeless\", \"fires\", \"nightlife\", \"politifacts-top-promises\"], \"y\": [1432, 1425, 1218, 937, 926, 899, 879, 805, 756, 642, 603, 552, 498, 479, 436, 428, 404, 389, 364, 362, 351, 338, 323, 314, 313, 311, 286, 283, 267, 263, 258, 255, 245, 242, 242, 239, 235, 234, 231, 226, 223, 218, 217, 206, 187, 174, 174, 173, 168, 164, 163, 162, 157, 150, 145, 144, 139, 137, 131, 125, 123, 119, 115, 111, 110, 110, 108, 104, 101, 100, 96, 95, 91, 91, 90, 85, 85, 83, 83, 82, 80, 77, 76, 72, 71, 71, 70, 69, 68, 67, 67, 66, 64, 64, 61, 60, 59, 59, 58, 56, 55, 50, 48, 47, 44, 44, 44, 42, 42, 41, 41, 40, 40, 40, 38, 36, 35, 33, 32, 31, 30, 28, 27, 27, 24, 21, 19, 18, 17, 12, 12, 12, 10, 6, 6, 3, 3, 2, 2, 2, 1, 1, 1, 1]}],\n",
       "                        {},\n",
       "                        {\"showLink\": false, \"linkText\": \"Export to plot.ly\", \"plotlyServerURL\": \"https://plot.ly\", \"responsive\": true}\n",
       "                    ).then(function(){\n",
       "                            \n",
       "var gd = document.getElementById('67e58c92-578a-461f-af14-d154839cf5d6');\n",
       "var x = new MutationObserver(function (mutations, observer) {{\n",
       "        var display = window.getComputedStyle(gd).display;\n",
       "        if (!display || display === 'none') {{\n",
       "            console.log([gd, 'removed!']);\n",
       "            Plotly.purge(gd);\n",
       "            observer.disconnect();\n",
       "        }}\n",
       "}});\n",
       "\n",
       "// Listen for the removal of the full notebook cells\n",
       "var notebookContainer = gd.closest('#notebook-container');\n",
       "if (notebookContainer) {{\n",
       "    x.observe(notebookContainer, {childList: true});\n",
       "}}\n",
       "\n",
       "// Listen for the clearing of the current output cell\n",
       "var outputEl = gd.closest('.output');\n",
       "if (outputEl) {{\n",
       "    x.observe(outputEl, {childList: true});\n",
       "}}\n",
       "\n",
       "                        })\n",
       "                };\n",
       "                });\n",
       "            </script>\n",
       "        </div>"
      ]
     },
     "metadata": {},
     "output_type": "display_data"
    }
   ],
   "source": [
    "sorted_subjects = subjects_counter.most_common(len(subjects_counter.keys()))\n",
    "\n",
    "chart = [go.Bar(\n",
    "            x = list(map(lambda x: x[0], sorted_subjects)),\n",
    "            y = list(map(lambda x: x[1], sorted_subjects)),\n",
    "        )]\n",
    "\n",
    "iplot(chart)"
   ]
  },
  {
   "cell_type": "code",
   "execution_count": 25,
   "metadata": {
    "collapsed": false
   },
   "outputs": [
    {
     "data": {
      "application/vnd.plotly.v1+json": {
       "config": {
        "linkText": "Export to plot.ly",
        "plotlyServerURL": "https://plot.ly",
        "showLink": false
       },
       "data": [
        {
         "type": "bar",
         "uid": "e78e86ae-8ab4-441b-9235-4c3bfc9cfa60",
         "x": [
          "republican",
          "democrat",
          "none",
          "organization",
          "independent",
          "newsmaker",
          "libertarian",
          "journalist",
          "activist",
          "columnist",
          "talk-show-host",
          "state-official",
          "labor-leader",
          "business-leader",
          "tea-party-member",
          "education-official",
          "green",
          "constitution-party",
          "government-body",
          "county-commissioner",
          "liberal-party-canada",
          "Moderate",
          "democratic-farmer-labor",
          "ocean-state-tea-party-action",
          null
         ],
         "y": [
          5663,
          4135,
          2179,
          264,
          180,
          64,
          51,
          49,
          45,
          44,
          32,
          24,
          15,
          11,
          10,
          3,
          3,
          3,
          2,
          2,
          1,
          1,
          1,
          1,
          1
         ]
        }
       ],
       "layout": {}
      },
      "text/html": [
       "<div>\n",
       "        \n",
       "        \n",
       "            <div id=\"df8677f9-2a67-45fd-b8a3-6e177ceaa7da\" class=\"plotly-graph-div\" style=\"height:525px; width:100%;\"></div>\n",
       "            <script type=\"text/javascript\">\n",
       "                require([\"plotly\"], function(Plotly) {\n",
       "                    window.PLOTLYENV=window.PLOTLYENV || {};\n",
       "                    window.PLOTLYENV.BASE_URL='https://plot.ly';\n",
       "                    \n",
       "                if (document.getElementById(\"df8677f9-2a67-45fd-b8a3-6e177ceaa7da\")) {\n",
       "                    Plotly.newPlot(\n",
       "                        'df8677f9-2a67-45fd-b8a3-6e177ceaa7da',\n",
       "                        [{\"type\": \"bar\", \"uid\": \"e78e86ae-8ab4-441b-9235-4c3bfc9cfa60\", \"x\": [\"republican\", \"democrat\", \"none\", \"organization\", \"independent\", \"newsmaker\", \"libertarian\", \"journalist\", \"activist\", \"columnist\", \"talk-show-host\", \"state-official\", \"labor-leader\", \"business-leader\", \"tea-party-member\", \"education-official\", \"green\", \"constitution-party\", \"government-body\", \"county-commissioner\", \"liberal-party-canada\", \"Moderate\", \"democratic-farmer-labor\", \"ocean-state-tea-party-action\", null], \"y\": [5663, 4135, 2179, 264, 180, 64, 51, 49, 45, 44, 32, 24, 15, 11, 10, 3, 3, 3, 2, 2, 1, 1, 1, 1, 1]}],\n",
       "                        {},\n",
       "                        {\"showLink\": false, \"linkText\": \"Export to plot.ly\", \"plotlyServerURL\": \"https://plot.ly\", \"responsive\": true}\n",
       "                    ).then(function(){\n",
       "                            \n",
       "var gd = document.getElementById('df8677f9-2a67-45fd-b8a3-6e177ceaa7da');\n",
       "var x = new MutationObserver(function (mutations, observer) {{\n",
       "        var display = window.getComputedStyle(gd).display;\n",
       "        if (!display || display === 'none') {{\n",
       "            console.log([gd, 'removed!']);\n",
       "            Plotly.purge(gd);\n",
       "            observer.disconnect();\n",
       "        }}\n",
       "}});\n",
       "\n",
       "// Listen for the removal of the full notebook cells\n",
       "var notebookContainer = gd.closest('#notebook-container');\n",
       "if (notebookContainer) {{\n",
       "    x.observe(notebookContainer, {childList: true});\n",
       "}}\n",
       "\n",
       "// Listen for the clearing of the current output cell\n",
       "var outputEl = gd.closest('.output');\n",
       "if (outputEl) {{\n",
       "    x.observe(outputEl, {childList: true});\n",
       "}}\n",
       "\n",
       "                        })\n",
       "                };\n",
       "                });\n",
       "            </script>\n",
       "        </div>"
      ]
     },
     "metadata": {},
     "output_type": "display_data"
    }
   ],
   "source": [
    "sorted_parties = Counter(pd.concat([data.df['train'].party, data.df['test'].party, data.df['validation'].party]).values).most_common(len(subjects_counter.keys()))\n",
    "\n",
    "chart = [go.Bar(\n",
    "            x = list(map(lambda x: x[0], sorted_parties)),\n",
    "            y = list(map(lambda x: x[1], sorted_parties)),\n",
    "        )]\n",
    "\n",
    "iplot(chart)"
   ]
  },
  {
   "cell_type": "code",
   "execution_count": 26,
   "metadata": {
    "collapsed": true
   },
   "outputs": [],
   "source": [
    "total_statements = pd.concat([data.df['train'].statement, data.df['test'].statement, data.df['validation'].statement])\n",
    "word_counter = total_statements.apply(lambda x: len(word_tokenize(x)))"
   ]
  },
  {
   "cell_type": "code",
   "execution_count": 27,
   "metadata": {
    "collapsed": true
   },
   "outputs": [],
   "source": [
    "word_counting = Counter(word_counter).most_common(len(word_counter.keys()))"
   ]
  },
  {
   "cell_type": "code",
   "execution_count": 33,
   "metadata": {
    "collapsed": false
   },
   "outputs": [
    {
     "data": {
      "application/vnd.plotly.v1+json": {
       "config": {
        "linkText": "Export to plot.ly",
        "plotlyServerURL": "https://plot.ly",
        "showLink": false
       },
       "data": [
        {
         "type": "bar",
         "uid": "3056a9c5-ad09-4aef-9c22-a0b97e6b4788",
         "x": [
          14,
          15,
          16,
          18,
          17,
          13,
          12,
          19,
          20,
          21,
          22,
          11,
          23,
          24,
          10,
          26,
          25,
          27,
          9,
          28,
          29,
          30,
          8,
          31,
          32,
          33,
          7,
          34,
          36,
          37,
          35,
          38,
          6,
          40,
          39,
          5,
          41,
          42,
          44,
          43,
          46,
          4,
          45,
          47,
          48,
          3,
          51,
          49,
          52,
          54,
          55,
          2,
          53,
          61,
          50,
          64,
          58,
          59,
          60,
          63,
          65,
          68,
          79,
          73,
          62,
          56,
          82,
          57
         ],
         "y": [
          747,
          663,
          660,
          657,
          657,
          630,
          593,
          581,
          567,
          530,
          521,
          508,
          437,
          426,
          407,
          378,
          375,
          333,
          314,
          299,
          288,
          212,
          207,
          191,
          184,
          158,
          136,
          121,
          108,
          106,
          102,
          87,
          85,
          69,
          59,
          51,
          43,
          40,
          40,
          27,
          24,
          23,
          19,
          18,
          14,
          14,
          13,
          9,
          7,
          6,
          5,
          4,
          4,
          4,
          3,
          3,
          3,
          2,
          2,
          2,
          1,
          1,
          1,
          1,
          1,
          1,
          1,
          1
         ]
        }
       ],
       "layout": {
        "shapes": [
         {
          "line": {
           "color": "rgb(0,0,0)",
           "width": 3
          },
          "type": "line",
          "x0": 19,
          "x1": 19,
          "y0": 0,
          "y1": 747
         },
         {
          "line": {
           "color": "rgb(0,0,0)",
           "width": 3
          },
          "type": "line",
          "x0": 1.8542171677047534,
          "x1": 1.8542171677047534,
          "y0": 0,
          "y1": 747
         },
         {
          "line": {
           "color": "rgb(0,0,0)",
           "width": 3
          },
          "type": "line",
          "x0": 36.14578283229525,
          "x1": 36.14578283229525,
          "y0": 0,
          "y1": 747
         }
        ],
        "title": {
         "text": "Dispersion of token counts over all statements"
        }
       }
      },
      "text/html": [
       "<div>\n",
       "        \n",
       "        \n",
       "            <div id=\"02e3a01e-ea8d-454e-984e-c3408724f98d\" class=\"plotly-graph-div\" style=\"height:525px; width:100%;\"></div>\n",
       "            <script type=\"text/javascript\">\n",
       "                require([\"plotly\"], function(Plotly) {\n",
       "                    window.PLOTLYENV=window.PLOTLYENV || {};\n",
       "                    window.PLOTLYENV.BASE_URL='https://plot.ly';\n",
       "                    \n",
       "                if (document.getElementById(\"02e3a01e-ea8d-454e-984e-c3408724f98d\")) {\n",
       "                    Plotly.newPlot(\n",
       "                        '02e3a01e-ea8d-454e-984e-c3408724f98d',\n",
       "                        [{\"type\": \"bar\", \"uid\": \"3056a9c5-ad09-4aef-9c22-a0b97e6b4788\", \"x\": [14, 15, 16, 18, 17, 13, 12, 19, 20, 21, 22, 11, 23, 24, 10, 26, 25, 27, 9, 28, 29, 30, 8, 31, 32, 33, 7, 34, 36, 37, 35, 38, 6, 40, 39, 5, 41, 42, 44, 43, 46, 4, 45, 47, 48, 3, 51, 49, 52, 54, 55, 2, 53, 61, 50, 64, 58, 59, 60, 63, 65, 68, 79, 73, 62, 56, 82, 57], \"y\": [747, 663, 660, 657, 657, 630, 593, 581, 567, 530, 521, 508, 437, 426, 407, 378, 375, 333, 314, 299, 288, 212, 207, 191, 184, 158, 136, 121, 108, 106, 102, 87, 85, 69, 59, 51, 43, 40, 40, 27, 24, 23, 19, 18, 14, 14, 13, 9, 7, 6, 5, 4, 4, 4, 3, 3, 3, 2, 2, 2, 1, 1, 1, 1, 1, 1, 1, 1]}],\n",
       "                        {\"shapes\": [{\"line\": {\"color\": \"rgb(0,0,0)\", \"width\": 3}, \"type\": \"line\", \"x0\": 19.0, \"x1\": 19.0, \"y0\": 0, \"y1\": 747}, {\"line\": {\"color\": \"rgb(0,0,0)\", \"width\": 3}, \"type\": \"line\", \"x0\": 1.8542171677047534, \"x1\": 1.8542171677047534, \"y0\": 0, \"y1\": 747}, {\"line\": {\"color\": \"rgb(0,0,0)\", \"width\": 3}, \"type\": \"line\", \"x0\": 36.14578283229525, \"x1\": 36.14578283229525, \"y0\": 0, \"y1\": 747}], \"title\": {\"text\": \"Dispersion of token counts over all statements\"}},\n",
       "                        {\"showLink\": false, \"linkText\": \"Export to plot.ly\", \"plotlyServerURL\": \"https://plot.ly\", \"responsive\": true}\n",
       "                    ).then(function(){\n",
       "                            \n",
       "var gd = document.getElementById('02e3a01e-ea8d-454e-984e-c3408724f98d');\n",
       "var x = new MutationObserver(function (mutations, observer) {{\n",
       "        var display = window.getComputedStyle(gd).display;\n",
       "        if (!display || display === 'none') {{\n",
       "            console.log([gd, 'removed!']);\n",
       "            Plotly.purge(gd);\n",
       "            observer.disconnect();\n",
       "        }}\n",
       "}});\n",
       "\n",
       "// Listen for the removal of the full notebook cells\n",
       "var notebookContainer = gd.closest('#notebook-container');\n",
       "if (notebookContainer) {{\n",
       "    x.observe(notebookContainer, {childList: true});\n",
       "}}\n",
       "\n",
       "// Listen for the clearing of the current output cell\n",
       "var outputEl = gd.closest('.output');\n",
       "if (outputEl) {{\n",
       "    x.observe(outputEl, {childList: true});\n",
       "}}\n",
       "\n",
       "                        })\n",
       "                };\n",
       "                });\n",
       "            </script>\n",
       "        </div>"
      ]
     },
     "metadata": {},
     "output_type": "display_data"
    }
   ],
   "source": [
    "word_std = word_counter.std()\n",
    "word_median = word_counter.median()\n",
    "\n",
    "chart = [go.Bar(\n",
    "            x = list(map(lambda x: x[0], word_counting)),\n",
    "            y = list(map(lambda x: x[1], word_counting)),\n",
    "        )]\n",
    "\n",
    "iplot({\n",
    "    'data': chart,\n",
    "    'layout': {\n",
    "        'title': 'Dispersion of token counts over all statements',\n",
    "        'shapes': [\n",
    "            # Line Vertical\n",
    "            {\n",
    "                'type': 'line',\n",
    "                'x0': word_median,\n",
    "                'y0': 0,\n",
    "                'x1': word_median,\n",
    "                'y1': 747,\n",
    "                'line': {\n",
    "                    'color': 'rgb(0,0,0)',\n",
    "                    'width': 3,\n",
    "                },\n",
    "            },\n",
    "            {\n",
    "                'type': 'line',\n",
    "                'x0': word_median - word_std * 2,\n",
    "                'y0': 0,\n",
    "                'x1': word_median - word_std * 2,\n",
    "                'y1': 747,\n",
    "                'line': {\n",
    "                    'color': 'rgb(0,0,0)',\n",
    "                    'width': 3,\n",
    "                },\n",
    "            },\n",
    "            {\n",
    "                'type': 'line',\n",
    "                'x0': word_median + word_std * 2,\n",
    "                'y0': 0,\n",
    "                'x1': word_median + word_std * 2,\n",
    "                'y1': 747,\n",
    "                'line': {\n",
    "                    'color': 'rgb(0,0,0)',\n",
    "                    'width': 3,\n",
    "                },\n",
    "            }\n",
    "        ]\n",
    "    },\n",
    "})"
   ]
  },
  {
   "cell_type": "markdown",
   "metadata": {},
   "source": [
    "<hr>\n",
    "\n",
    "## Recoding the labels"
   ]
  },
  {
   "cell_type": "code",
   "execution_count": 29,
   "metadata": {
    "collapsed": true
   },
   "outputs": [],
   "source": [
    "# Recode labels from 6 to 3\n",
    "def recode(label):\n",
    "    if label == 'false' or label == 'pants-fire' or label == 'barely-true':\n",
    "        return 'false'\n",
    "    elif label == 'true' or label == 'mostly-true':\n",
    "        return 'true'\n",
    "    elif label == 'half-true':\n",
    "        return 'half-true'"
   ]
  },
  {
   "cell_type": "code",
   "execution_count": 30,
   "metadata": {
    "collapsed": false
   },
   "outputs": [
    {
     "data": {
      "application/vnd.plotly.v1+json": {
       "config": {
        "linkText": "Export to plot.ly",
        "plotlyServerURL": "https://plot.ly",
        "showLink": false
       },
       "data": [
        {
         "domain": {
          "x": [
           0,
           0.5
          ]
         },
         "labels": [
          "false",
          "half-true",
          "mostly-true",
          "true",
          "barely-true",
          "pants-fire"
         ],
         "name": "Old distribution",
         "title": {
          "text": "Old distribution"
         },
         "type": "pie",
         "uid": "3d209faf-0b94-4a73-af46-0d932dec9f61",
         "values": [
          2505,
          2626,
          2453,
          2051,
          2102,
          1047
         ]
        },
        {
         "domain": {
          "x": [
           0.5,
           1
          ]
         },
         "labels": [
          "false",
          "half-true",
          "true"
         ],
         "name": "New distribution",
         "title": {
          "text": "New distribution"
         },
         "type": "pie",
         "uid": "761045a3-0f39-4ecd-bcb6-d9886bf829da",
         "values": [
          5654,
          2626,
          4504
         ]
        }
       ],
       "layout": {
        "title": {
         "text": "Distribution of statements across the labels before and after recoding"
        }
       }
      },
      "text/html": [
       "<div>\n",
       "        \n",
       "        \n",
       "            <div id=\"7327a015-2b90-4aa6-b4b5-c08f253eb6f0\" class=\"plotly-graph-div\" style=\"height:525px; width:100%;\"></div>\n",
       "            <script type=\"text/javascript\">\n",
       "                require([\"plotly\"], function(Plotly) {\n",
       "                    window.PLOTLYENV=window.PLOTLYENV || {};\n",
       "                    window.PLOTLYENV.BASE_URL='https://plot.ly';\n",
       "                    \n",
       "                if (document.getElementById(\"7327a015-2b90-4aa6-b4b5-c08f253eb6f0\")) {\n",
       "                    Plotly.newPlot(\n",
       "                        '7327a015-2b90-4aa6-b4b5-c08f253eb6f0',\n",
       "                        [{\"domain\": {\"x\": [0, 0.5]}, \"labels\": [\"false\", \"half-true\", \"mostly-true\", \"true\", \"barely-true\", \"pants-fire\"], \"name\": \"Old distribution\", \"title\": {\"text\": \"Old distribution\"}, \"type\": \"pie\", \"uid\": \"3d209faf-0b94-4a73-af46-0d932dec9f61\", \"values\": [2505, 2626, 2453, 2051, 2102, 1047]}, {\"domain\": {\"x\": [0.5, 1.0]}, \"labels\": [\"false\", \"half-true\", \"true\"], \"name\": \"New distribution\", \"title\": {\"text\": \"New distribution\"}, \"type\": \"pie\", \"uid\": \"761045a3-0f39-4ecd-bcb6-d9886bf829da\", \"values\": [5654, 2626, 4504]}],\n",
       "                        {\"title\": {\"text\": \"Distribution of statements across the labels before and after recoding\"}},\n",
       "                        {\"showLink\": false, \"linkText\": \"Export to plot.ly\", \"plotlyServerURL\": \"https://plot.ly\", \"responsive\": true}\n",
       "                    ).then(function(){\n",
       "                            \n",
       "var gd = document.getElementById('7327a015-2b90-4aa6-b4b5-c08f253eb6f0');\n",
       "var x = new MutationObserver(function (mutations, observer) {{\n",
       "        var display = window.getComputedStyle(gd).display;\n",
       "        if (!display || display === 'none') {{\n",
       "            console.log([gd, 'removed!']);\n",
       "            Plotly.purge(gd);\n",
       "            observer.disconnect();\n",
       "        }}\n",
       "}});\n",
       "\n",
       "// Listen for the removal of the full notebook cells\n",
       "var notebookContainer = gd.closest('#notebook-container');\n",
       "if (notebookContainer) {{\n",
       "    x.observe(notebookContainer, {childList: true});\n",
       "}}\n",
       "\n",
       "// Listen for the clearing of the current output cell\n",
       "var outputEl = gd.closest('.output');\n",
       "if (outputEl) {{\n",
       "    x.observe(outputEl, {childList: true});\n",
       "}}\n",
       "\n",
       "                        })\n",
       "                };\n",
       "                });\n",
       "            </script>\n",
       "        </div>"
      ]
     },
     "metadata": {},
     "output_type": "display_data"
    }
   ],
   "source": [
    "old_labels = Counter(pd.concat([data.df['train'].label, data.df['test'].label, data.df['validation'].label]).values)\n",
    "new_labels = Counter(\n",
    "        pd.concat([\n",
    "            data.df['train'].label.apply(lambda label: recode(label)), \n",
    "            data.df['test'].label.apply(lambda label: recode(label)), \n",
    "            data.df['validation'].label.apply(lambda label: recode(label))\n",
    "        ]).values)\n",
    "\n",
    "charts = [\n",
    "    go.Pie(\n",
    "        labels = list(old_labels.keys()),\n",
    "        values = list(old_labels.values()),\n",
    "        name = 'Old distribution',\n",
    "        domain = dict(x=[0,0.5]),\n",
    "        title = 'Old distribution'\n",
    "    ), \n",
    "    go.Pie(\n",
    "        labels = list(new_labels.keys()),\n",
    "        values = list(new_labels.values()),\n",
    "        name = 'New distribution',\n",
    "        domain=dict(x=[0.5,1.0]),\n",
    "        title = 'New distribution'\n",
    "    ),\n",
    "]\n",
    "\n",
    "layout = go.Layout(\n",
    "    title = 'Distribution of statements across the labels before and after recoding',\n",
    ")\n",
    "\n",
    "fig = go.Figure(data = charts, layout = layout)\n",
    "\n",
    "iplot(fig)"
   ]
  }
 ],
 "metadata": {
  "kernelspec": {
   "display_name": "Python 3",
   "language": "python",
   "name": "python3"
  },
  "language_info": {
   "codemirror_mode": {
    "name": "ipython",
    "version": 3
   },
   "file_extension": ".py",
   "mimetype": "text/x-python",
   "name": "python",
   "nbconvert_exporter": "python",
   "pygments_lexer": "ipython3",
   "version": "3.7.3"
  }
 },
 "nbformat": 4,
 "nbformat_minor": 2
}
