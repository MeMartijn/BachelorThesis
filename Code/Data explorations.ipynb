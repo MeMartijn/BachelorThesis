{
 "cells": [
  {
   "cell_type": "markdown",
   "metadata": {},
   "source": [
    "# Data explorations\n",
    "In this notebook, a first analysis of the data from [Wang (2017)](https://arxiv.org/abs/1705.00648) will be performed. "
   ]
  },
  {
   "cell_type": "code",
   "execution_count": 1,
   "metadata": {},
   "outputs": [],
   "source": [
    "import pandas as pd\n",
    "import os"
   ]
  },
  {
   "cell_type": "markdown",
   "metadata": {},
   "source": [
    "#### Data loading class for interaction with the data"
   ]
  },
  {
   "cell_type": "code",
   "execution_count": 14,
   "metadata": {},
   "outputs": [],
   "source": [
    "class DataLoader:\n",
    "    '''A class which holds functionality to load and interact with the data from the research article'''\n",
    "    def __init__(self):\n",
    "        self.data_link = self.get_data_loc()\n",
    "        self.df = self.get_dfs()\n",
    "    \n",
    "    def get_data_loc(self):\n",
    "        '''Returns the file path for the data'''\n",
    "        data_dir = 'Data'\n",
    "        dir_name = 'liar_dataset'\n",
    "        \n",
    "        def ensemble_path(file):\n",
    "            '''Short function to ensemble the paths of data files'''\n",
    "            return data_dir + '/' + dir_name + '/' + file\n",
    "    \n",
    "        if dir_name in os.listdir('Data'):\n",
    "            return {\n",
    "                'train': ensemble_path('/train.tsv'),\n",
    "                'test': ensemble_path('/test.tsv'),\n",
    "                'validation': ensemble_path('/valid.tsv')\n",
    "            }\n",
    "\n",
    "        raise ValueError('Please unpack the ' + dir_name + '.zip file to continue')\n",
    "    \n",
    "    def get_dfs(self):\n",
    "        '''Returns a dictionary with pandas dataframes for all data in the data_link dictionary'''\n",
    "        return pd.DataFrame()"
   ]
  },
  {
   "cell_type": "code",
   "execution_count": 16,
   "metadata": {},
   "outputs": [
    {
     "data": {
      "text/plain": [
       "{'train': 'Data/liar_dataset//train.tsv',\n",
       " 'test': 'Data/liar_dataset//test.tsv',\n",
       " 'validation': 'Data/liar_dataset//valid.tsv'}"
      ]
     },
     "execution_count": 16,
     "metadata": {},
     "output_type": "execute_result"
    }
   ],
   "source": [
    "data = DataLoader()\n",
    "data.data_link"
   ]
  },
  {
   "cell_type": "code",
   "execution_count": null,
   "metadata": {},
   "outputs": [],
   "source": []
  }
 ],
 "metadata": {
  "kernelspec": {
   "display_name": "Python 3",
   "language": "python",
   "name": "python3"
  },
  "language_info": {
   "codemirror_mode": {
    "name": "ipython",
    "version": 3
   },
   "file_extension": ".py",
   "mimetype": "text/x-python",
   "name": "python",
   "nbconvert_exporter": "python",
   "pygments_lexer": "ipython3",
   "version": "3.6.5"
  }
 },
 "nbformat": 4,
 "nbformat_minor": 2
}
